{
  "nbformat": 4,
  "nbformat_minor": 0,
  "metadata": {
    "colab": {
      "provenance": [],
      "authorship_tag": "ABX9TyN1DadDn7hy/pWVMTxBUVF1",
      "include_colab_link": true
    },
    "kernelspec": {
      "name": "python3",
      "display_name": "Python 3"
    },
    "language_info": {
      "name": "python"
    }
  },
  "cells": [
    {
      "cell_type": "markdown",
      "metadata": {
        "id": "view-in-github",
        "colab_type": "text"
      },
      "source": [
        "<a href=\"https://colab.research.google.com/github/hws2002/Deep_Learning_with_Keras/blob/main/Chapter10/Chapter10_2_temperature_forecasting.ipynb\" target=\"_parent\"><img src=\"https://colab.research.google.com/assets/colab-badge.svg\" alt=\"Open In Colab\"/></a>"
      ]
    },
    {
      "cell_type": "code",
      "execution_count": 1,
      "metadata": {
        "colab": {
          "base_uri": "https://localhost:8080/"
        },
        "id": "lyxwBuKv7M6C",
        "outputId": "16ea2510-098a-49d1-d307-9ae7eb436e16"
      },
      "outputs": [
        {
          "output_type": "stream",
          "name": "stdout",
          "text": [
            "--2025-01-12 00:51:25--  https://s3.amazonaws.com/keras-datasets/jena_climate_2009_2016.csv.zip\n",
            "Resolving s3.amazonaws.com (s3.amazonaws.com)... 3.5.0.20, 52.217.168.248, 3.5.22.136, ...\n",
            "Connecting to s3.amazonaws.com (s3.amazonaws.com)|3.5.0.20|:443... connected.\n",
            "HTTP request sent, awaiting response... 200 OK\n",
            "Length: 13565642 (13M) [application/zip]\n",
            "Saving to: ‘jena_climate_2009_2016.csv.zip’\n",
            "\n",
            "jena_climate_2009_2 100%[===================>]  12.94M  18.1MB/s    in 0.7s    \n",
            "\n",
            "2025-01-12 00:51:26 (18.1 MB/s) - ‘jena_climate_2009_2016.csv.zip’ saved [13565642/13565642]\n",
            "\n"
          ]
        }
      ],
      "source": [
        "!wget https://s3.amazonaws.com/keras-datasets/jena_climate_2009_2016.csv.zip"
      ]
    },
    {
      "cell_type": "code",
      "source": [
        "!unzip jena_climate_2009_2016.csv.zip"
      ],
      "metadata": {
        "colab": {
          "base_uri": "https://localhost:8080/"
        },
        "id": "HomptM2w8PD9",
        "outputId": "47b850ef-d0f4-4368-dd9b-e506497e120f"
      },
      "execution_count": 2,
      "outputs": [
        {
          "output_type": "stream",
          "name": "stdout",
          "text": [
            "Archive:  jena_climate_2009_2016.csv.zip\n",
            "  inflating: jena_climate_2009_2016.csv  \n",
            "  inflating: __MACOSX/._jena_climate_2009_2016.csv  \n"
          ]
        }
      ]
    },
    {
      "cell_type": "markdown",
      "source": [
        "데이터를 살펴보자"
      ],
      "metadata": {
        "id": "pW8S9vzh8Qmf"
      }
    },
    {
      "cell_type": "code",
      "source": [
        "import os\n",
        "fname = os.path.join(\"jena_climate_2009_2016.csv\")\n",
        "\n",
        "with open(fname) as f:\n",
        "  data = f.read()"
      ],
      "metadata": {
        "id": "ewZRsziB-j2-"
      },
      "execution_count": 3,
      "outputs": []
    },
    {
      "cell_type": "code",
      "source": [
        "lines = data.split(\"\\n\")\n",
        "header = lines[0].split(',')\n",
        "lines = lines[1:]\n",
        "print(header)\n",
        "print(len(lines))"
      ],
      "metadata": {
        "colab": {
          "base_uri": "https://localhost:8080/"
        },
        "id": "bTXQuHGa_cKC",
        "outputId": "efe9c496-86f1-4f84-b373-138256fd5ea5"
      },
      "execution_count": 8,
      "outputs": [
        {
          "output_type": "stream",
          "name": "stdout",
          "text": [
            "['\"Date Time\"', '\"p (mbar)\"', '\"T (degC)\"', '\"Tpot (K)\"', '\"Tdew (degC)\"', '\"rh (%)\"', '\"VPmax (mbar)\"', '\"VPact (mbar)\"', '\"VPdef (mbar)\"', '\"sh (g/kg)\"', '\"H2OC (mmol/mol)\"', '\"rho (g/m**3)\"', '\"wv (m/s)\"', '\"max. wv (m/s)\"', '\"wd (deg)\"']\n",
            "420451\n"
          ]
        }
      ]
    },
    {
      "cell_type": "markdown",
      "source": [
        "42만 551개의 데이터 전체를 넘파이 배열로 바꾸자.  \n",
        "온도를 하나의 배열로 만들고 나머지 데이터를 또 다른 배열로 만들어서, 두 번째 배열이 미래 온도를 예측하기 위해 사용할 특성으로 사용하자.(Date Time 열은 제외시킬것임)"
      ],
      "metadata": {
        "id": "6DIvnhkJ_7hq"
      }
    },
    {
      "cell_type": "code",
      "source": [
        "lines[3]"
      ],
      "metadata": {
        "colab": {
          "base_uri": "https://localhost:8080/",
          "height": 35
        },
        "id": "Tdiz6oVqAafh",
        "outputId": "a677d959-7f02-45f9-f9c0-75ae5b876f40"
      },
      "execution_count": 9,
      "outputs": [
        {
          "output_type": "execute_result",
          "data": {
            "text/plain": [
              "'01.01.2009 00:40:00,996.51,-8.31,265.12,-9.07,94.20,3.26,3.07,0.19,1.92,3.08,1309.19,0.34,0.50,198.00'"
            ],
            "application/vnd.google.colaboratory.intrinsic+json": {
              "type": "string"
            }
          },
          "metadata": {},
          "execution_count": 9
        }
      ]
    },
    {
      "cell_type": "code",
      "source": [
        "import numpy as np\n",
        "\n",
        "temperature = np.zeros((len(lines),))\n",
        "raw_data = np.zeros((len(lines), len(header) - 1))\n",
        "\n",
        "for i, line in enumerate(lines):\n",
        "  values = [float(x) for x in lines[i].split(',')[1:]]\n",
        "  temperature[i] = values[1]\n",
        "  raw_data[i,:] = values"
      ],
      "metadata": {
        "id": "uu-bVrD1_4MC"
      },
      "execution_count": 24,
      "outputs": []
    },
    {
      "cell_type": "markdown",
      "source": [
        "시간에 따른 온도 그래프를 시각화해보자"
      ],
      "metadata": {
        "id": "pQiPCOlEA1K1"
      }
    },
    {
      "cell_type": "code",
      "source": [
        "import matplotlib.pyplot as plt\n",
        "\n",
        "plt.plot(temperature)\n",
        "plt.show()"
      ],
      "metadata": {
        "colab": {
          "base_uri": "https://localhost:8080/",
          "height": 434
        },
        "id": "MqLJzBsqAkS8",
        "outputId": "eaed3bc2-5403-4111-aeae-7af41ca5b7d1"
      },
      "execution_count": 30,
      "outputs": [
        {
          "output_type": "display_data",
          "data": {
            "text/plain": [
              "<Figure size 640x480 with 1 Axes>"
            ],
            "image/png": "[encoded data removed]"
          },
          "metadata": {}
        }
      ]
    },
    {
      "cell_type": "markdown",
      "source": [
        "기간을 좁혀서 처음 10일간의 온도 데이터를 나타내보자"
      ],
      "metadata": {
        "id": "6t-lOxDXA8n4"
      }
    },
    {
      "cell_type": "code",
      "source": [
        "plt.plot(temperature[:1440])\n",
        "plt.show()"
      ],
      "metadata": {
        "colab": {
          "base_uri": "https://localhost:8080/",
          "height": 430
        },
        "id": "Nl2ewQmYA8FQ",
        "outputId": "b4483278-fbf7-4257-fcfa-09190c9065dd"
      },
      "execution_count": 31,
      "outputs": [
        {
          "output_type": "display_data",
          "data": {
            "text/plain": [
              "<Figure size 640x480 with 1 Axes>"
            ],
            "image/png": "[encoded data removed]"
          },
          "metadata": {}
        }
      ]
    },
    {
      "cell_type": "markdown",
      "source": [
        "이 그래프에서 일별 주기성을 볼 수 있다."
      ],
      "metadata": {
        "id": "wx1LhVHdBFJ5"
      }
    },
    {
      "cell_type": "markdown",
      "source": [
        "## 예측\n",
        "주기성이 있으므로, 지난 몇 달 간의 데이터를 사용하여 다음 달의 평균 온도를 예측하는 문제는 쉬운 편임. 하지만 하루하루 데이터를 살펴보면 온도 변화가 매우 불안정하므로, 일자별 수준의 시계열 데이터를 예측하기란 쉽지 않음.  \n",
        "\n",
        "처음 50%의 데이터를 훈련에 사용하고 다음 25%를 검증, 마지막 25%를 테스트에 사용해 보자."
      ],
      "metadata": {
        "id": "bzN0L7h_BHcx"
      }
    },
    {
      "cell_type": "code",
      "source": [
        "num_train_samples = int(.5 * len(raw_data))\n",
        "num_val_samples = int(.25 * len(raw_data))\n",
        "num_test_samples = len(raw_data) - num_train_samples - num_val_samples"
      ],
      "metadata": {
        "id": "6xq-c4-SBFBj"
      },
      "execution_count": 32,
      "outputs": []
    },
    {
      "cell_type": "code",
      "source": [
        "print(\"num_train_samples : \", num_train_samples)\n",
        "print(\"num_val_samples : \", num_val_samples)\n",
        "print(\"num_test_samples : \", num_test_samples)"
      ],
      "metadata": {
        "colab": {
          "base_uri": "https://localhost:8080/"
        },
        "id": "vbJOzvEvBq07",
        "outputId": "1f30731e-d55a-4f11-a001-34166908ec0f"
      },
      "execution_count": 33,
      "outputs": [
        {
          "output_type": "stream",
          "name": "stdout",
          "text": [
            "num_train_samples :  210225\n",
            "num_val_samples :  105112\n",
            "num_test_samples :  105114\n"
          ]
        }
      ]
    },
    {
      "cell_type": "markdown",
      "source": [
        "## 데이터 준비\n",
        "한 시간에 한 번씩 샘플링된 5일간의 데이터가 주어졌을 때, 24시간 뒤의 온도를 예측해 보는 모델을 만들어 보자  \n",
        "\n",
        "먼저 데이터를 신경망에 주입할 수 있는 형태로 전처리 해야 함.  \n",
        "이 작업은 쉬움. 데이터가 이미 수치형이기 때문에 어떤 벡터화도 필요하지 않음.  \n",
        "하지만 이 데이터에 있는 시계열은 스케일이 각기 다르기 때문에, 시계열을 독립적으로 정규화하여 비슷한 범위를 가진 작은 값으로 바꾸어 보자.  "
      ],
      "metadata": {
        "id": "9Z9q7rgkByYx"
      }
    },
    {
      "cell_type": "code",
      "source": [
        "mean = raw_data[:num_train_samples].mean(axis = 0)\n",
        "raw_data -= mean\n",
        "std = raw_data[:num_train_samples].std(axis = 0)\n",
        "raw_data /= std"
      ],
      "metadata": {
        "id": "VwA4d2YhBxUg"
      },
      "execution_count": 34,
      "outputs": []
    },
    {
      "cell_type": "markdown",
      "source": [
        "이제 과거 5일치 데이터와 24시간 뒤 타깃 온도의 배치를 반환하는 Dataset 객체를 만들어 보자.  \n",
        "이 데이터셋에 있는 샘플은 중복이 많아서(샘플 N과 샘플 N+1은 대부분의 타임스텝이 중복되어 있음)  \n",
        "모든 샘플을 메모리에 적재하면 낭비가 심하므로, 그 대신 raw_data와 temperature 배열만 메모리에 유지하고 그때그때 샘플을 생성해보자.  "
      ],
      "metadata": {
        "id": "Ie1tTPpcCQXN"
      }
    },
    {
      "cell_type": "markdown",
      "source": [
        "파이썬 제너레이터를 만들어 처리할 수 있지만 케라스에 내장된 데이터셋 유틸리티(timeseries_dataset_from_array()) 를 사용해 보자.\n"
      ],
      "metadata": {
        "id": "QiuDFvCSCtU7"
      }
    },
    {
      "cell_type": "markdown",
      "source": [
        "다음과 같은 매개변수 값을 사용해보자\n",
        "* sampling_rate = 6 : 원본데이터는 10분마다 측정되었으므로, 시간당 하나의 데이터 포인트를 샘플링하기 위해 6개의 데이터 포인트중 하나만 사용하자\n",
        "* sequence_length = 120 : 이전 5일간(120시간) 데이터를 사용하자\n",
        "* delay = sampling_rate * (sequence_length + 24 - 1) : 시퀀스의 타깃은 시퀀스 끝에서 24시간 후의 온도임\n",
        "\n",
        "훈련 데이터셋을 만들 떄 처음 50%의 데이터만 사용하기 위해 start_index = 0 과 end_index = num_train_samples로 지정함.  \n",
        "\n",
        "검증 데이터셋의 경우 그다음 25%를 사용하기 위해 start_index = num_train_samples와 end_index = num_train_samples + num_val_samples로 지정함.  \n",
        "마지막 테스트 데이터셋의 경우 남은 샘플을 사용하기 위해 start_index = num_train_samples + num_val_samples로 지정함"
      ],
      "metadata": {
        "id": "NMvKx-rqEiQK"
      }
    },
    {
      "cell_type": "code",
      "source": [
        "import keras\n",
        "\n",
        "sampling_rate = 6\n",
        "sequence_length = 120\n",
        "delay = sampling_rate * (sequence_length + 24 - 1)\n",
        "batch_size = 256\n",
        "\n",
        "train_dataset = keras.preprocessing.timeseries_dataset_from_array(\n",
        "    data = raw_data[:-delay],\n",
        "    targets = temperature[delay:],\n",
        "    sampling_rate = sampling_rate,\n",
        "    sequence_length = sequence_length,\n",
        "    shuffle = True,\n",
        "    batch_size = batch_size,\n",
        "    start_index = 0,\n",
        "    end_index = num_train_samples)"
      ],
      "metadata": {
        "id": "iB-ze68oCP4T"
      },
      "execution_count": 67,
      "outputs": []
    },
    {
      "cell_type": "code",
      "source": [
        "val_dataset = keras.preprocessing.timeseries_dataset_from_array(\n",
        "    data = raw_data[:-delay],\n",
        "    targets = temperature[delay:],\n",
        "    sampling_rate = sampling_rate,\n",
        "    sequence_length = sequence_length,\n",
        "    shuffle = True,\n",
        "    batch_size = batch_size,\n",
        "    start_index = num_train_samples,\n",
        "    end_index = num_train_samples + num_val_samples)"
      ],
      "metadata": {
        "id": "UQ5IocpLIL6c"
      },
      "execution_count": 68,
      "outputs": []
    },
    {
      "cell_type": "code",
      "source": [
        "test_dataset = keras.preprocessing.timeseries_dataset_from_array(\n",
        "    data = raw_data[:-delay],\n",
        "    targets = temperature[delay:],\n",
        "    sampling_rate = sampling_rate,\n",
        "    sequence_length = sequence_length,\n",
        "    shuffle = True,\n",
        "    batch_size = batch_size,\n",
        "    start_index = num_train_samples + num_val_samples)"
      ],
      "metadata": {
        "id": "8hWlAqmjIriu"
      },
      "execution_count": 69,
      "outputs": []
    },
    {
      "cell_type": "markdown",
      "source": [
        "각 데이터셋은 (samples, targets)크기의 튜플을 반환함. samples는 256개(batch_size)의 샘플로 이루어진 배치임.  \n",
        "각 샘플은 연속된 120시간의 입력 데이터를 담고 있음.\n",
        "샘플이 랜덤하게 섞여 있기 때문에 배치에 있는 연속된 두 샘플이 꼭 시간적으로 가까운 것은 아님"
      ],
      "metadata": {
        "id": "IcWmeFyPIzAq"
      }
    },
    {
      "cell_type": "markdown",
      "source": [
        "# 베이스라인 모델\n",
        "24시간 후 온도가 지금과 동일하다고 예측하는 모델을 베이스라인으로 잡고, 평균 절댓값 오차(MAE)로 평가해 보가"
      ],
      "metadata": {
        "id": "q7PIQk-7Jj0V"
      }
    },
    {
      "cell_type": "code",
      "source": [
        "def evaluate_naive_method(datset):\n",
        "  total_abs_err = 0.\n",
        "  samples_seen = 0\n",
        "  for samples, targets in datset:\n",
        "    preds = samples[:,-1,1] * std[1] + mean[1] # 특성을 정규화했기 때문에 온도를 섭씨로 바꾸려면 표준 편차를 곱하고\n",
        "    # 평균을 더해야 함\n",
        "    total_abs_err += np.sum(np.abs(targets - preds))\n",
        "    samples_seen += samples.shape[0]\n",
        "  return total_abs_err / samples_seen\n",
        "\n",
        "print(f\"검증 MAE : {evaluate_naive_method(val_dataset):.2f}\")\n",
        "print(f\"테스트 MAE : {evaluate_naive_method(test_dataset):.2f}\")"
      ],
      "metadata": {
        "colab": {
          "base_uri": "https://localhost:8080/"
        },
        "id": "hTkU0OysJx1f",
        "outputId": "db779f5b-f86a-4448-bac5-67fe9df20f4e"
      },
      "execution_count": 70,
      "outputs": [
        {
          "output_type": "stream",
          "name": "stdout",
          "text": [
            "검증 MAE : 2.44\n",
            "테스트 MAE : 2.62\n"
          ]
        }
      ]
    },
    {
      "cell_type": "markdown",
      "source": [
        "베이스라인 모델은 검증 MAE와 테스트 MAE에서 각각 2.52도와 2.71도를 달성했음. 따라서 24시간 후의 온도를 항상 현재와 같다고 예측하면 평균적으로 2.6도 정도 차이가 날 것임. 아주 나쁘지는 않지만 이런 규칙을 기반으로 날씨 예보 서비스를 시작하지는않을 것임 이제 딥러닝 모델이 더 나은지 시도해 보자."
      ],
      "metadata": {
        "id": "DnoXfI07Kg6h"
      }
    },
    {
      "cell_type": "markdown",
      "source": [
        "# 기본적인 머신 러닝 모델 시도해 보기"
      ],
      "metadata": {
        "id": "NazVaOzYIQ0j"
      }
    },
    {
      "cell_type": "markdown",
      "source": [
        "RNN모델을 만들기 전에, 먼저 간단하고 손쉽게 만들 수 있는 머신 러닝 모델을 만들어 보자.  \n",
        "\n",
        "데이터를 펼쳐서 2개의 Dense층을 통과시키는 완전 연결 네트워크를 만들어 보자. 회귀 문제이므로 마지막 Dense층에 활성화 함수를 두지 않을 것이고, 경사 하강법을 적용하기 위해 MAE대신 MSE를 사용해 보자.( 단,  모니터링할 지표로 MAE를 추가하자)"
      ],
      "metadata": {
        "id": "G04uEDXmK1ID"
      }
    },
    {
      "cell_type": "code",
      "source": [
        "from tensorflow import keras\n",
        "from tensorflow.keras import layers\n",
        "\n",
        "inputs = keras.Input(shape = (sequence_length, raw_data.shape[-1]))\n",
        "x = layers.Flatten()(inputs)\n",
        "x = layers.Dense(16, activation = \"relu\")(x)\n",
        "outputs = layers.Dense(1)(x)\n",
        "model = keras.Model(inputs, outputs)\n",
        "model.summary()\n",
        "callbacks = [\n",
        "    keras.callbacks.ModelCheckpoint(\"jena_dense.keras\",\n",
        "                                    save_best_only = True)\n",
        "]\n",
        "\n",
        "model.compile(\n",
        "    optimizer = \"rmsprop\",\n",
        "    loss = \"mse\" ,\n",
        "    metrics = ['mae']\n",
        ")\n",
        "\n",
        "history = model.fit(\n",
        "    train_dataset,\n",
        "    epochs = 10,\n",
        "    validation_data = val_dataset,\n",
        "    callbacks = callbacks)"
      ],
      "metadata": {
        "id": "1Xjr_-e8IUof"
      },
      "execution_count": null,
      "outputs": []
    },
    {
      "cell_type": "code",
      "source": [
        "model= keras.models.load_model(\"jena_dense.keras\")\n",
        "print(f\"테스트 MAE : {model.evaluate(test_dataset)[1]:.2f}\")"
      ],
      "metadata": {
        "id": "5worA_3sMNuq"
      },
      "execution_count": null,
      "outputs": []
    },
    {
      "cell_type": "markdown",
      "source": [
        "훈련과 검증 손실 곡선을 그려 보자"
      ],
      "metadata": {
        "id": "Vnwd1495MoSj"
      }
    },
    {
      "cell_type": "code",
      "source": [
        "loss = history.history['mae']\n",
        "val_loss = history.history['val_mae']\n",
        "epochs = range(1, len(loss) + 1)\n",
        "plt.figure()\n",
        "plt.plot(epochs, loss, \"bo\", label = \"Training MAE\")\n",
        "plt.plot(epochs, val_loss, 'b', label = \"Validation MAE\")\n",
        "plt.title(\"Training and validation MAE\")\n",
        "plt.legend()\n",
        "plt.show()"
      ],
      "metadata": {
        "id": "0-biOkyuMpdB"
      },
      "execution_count": null,
      "outputs": []
    },
    {
      "cell_type": "markdown",
      "source": [
        "# 1D 합성곱 모델 시도해 보기"
      ],
      "metadata": {
        "id": "uJJw40szMsQB"
      }
    },
    {
      "cell_type": "code",
      "source": [
        "inputs = keras.Input(shape = (sequence_length, raw_data.shape[-1]))\n",
        "x = layers.Conv1D(8, 24, activation = \"relu\")(inputs)\n",
        "x = layers.MaxPooling1D(2)(x)\n",
        "x = layers.Conv1D(8, 12, activation = \"relu\")(x)\n",
        "x = layers.MaxPooling1D(2)(x)\n",
        "x = layers.Conv1D(8, 6, activation = \"relu\")(x)\n",
        "x = layers.GlobalAveragePooling1D()(x)\n",
        "outputs = layers.Dense(1)(x)\n",
        "model = keras.Model(inputs, outputs)\n",
        "model.summary()\n",
        "\n",
        "callbacks = [\n",
        "    keras.callbacks.ModelCheckpoint(\"jena_conv.keras\",\n",
        "                                    save_best_only = True)\n",
        "]\n",
        "\n",
        "model.compile(optimizer = 'rmsprop', loss = \"mse\", metrics = ['mae'])\n",
        "history = model.fit(train_dataset,\n",
        "                    epochs = 10,\n",
        "                    validation_data = val_dataset,\n",
        "                    callbacks = callbacks)"
      ],
      "metadata": {
        "colab": {
          "base_uri": "https://localhost:8080/",
          "height": 812
        },
        "id": "GefxSGHNMuV6",
        "outputId": "e63740ec-c226-47a7-e27b-4d78fbc05e9b"
      },
      "execution_count": 81,
      "outputs": [
        {
          "output_type": "display_data",
          "data": {
            "text/plain": [
              "\u001b[1mModel: \"functional_12\"\u001b[0m\n"
            ],
            "text/html": [
              "<pre style=\"white-space:pre;overflow-x:auto;line-height:normal;font-family:Menlo,'DejaVu Sans Mono',consolas,'Courier New',monospace\"><span style=\"font-weight: bold\">Model: \"functional_12\"</span>\n",
              "</pre>\n"
            ]
          },
          "metadata": {}
        },
        {
          "output_type": "display_data",
          "data": {
            "text/plain": [
              "┏━━━━━━━━━━━━━━━━━━━━━━━━━━━━━━━━━━━━━━┳━━━━━━━━━━━━━━━━━━━━━━━━━━━━━┳━━━━━━━━━━━━━━━━━┓\n",
              "┃\u001b[1m \u001b[0m\u001b[1mLayer (type)                        \u001b[0m\u001b[1m \u001b[0m┃\u001b[1m \u001b[0m\u001b[1mOutput Shape               \u001b[0m\u001b[1m \u001b[0m┃\u001b[1m \u001b[0m\u001b[1m        Param #\u001b[0m\u001b[1m \u001b[0m┃\n",
              "┡━━━━━━━━━━━━━━━━━━━━━━━━━━━━━━━━━━━━━━╇━━━━━━━━━━━━━━━━━━━━━━━━━━━━━╇━━━━━━━━━━━━━━━━━┩\n",
              "│ input_layer_13 (\u001b[38;5;33mInputLayer\u001b[0m)          │ (\u001b[38;5;45mNone\u001b[0m, \u001b[38;5;34m120\u001b[0m, \u001b[38;5;34m14\u001b[0m)             │               \u001b[38;5;34m0\u001b[0m │\n",
              "├──────────────────────────────────────┼─────────────────────────────┼─────────────────┤\n",
              "│ conv1d_13 (\u001b[38;5;33mConv1D\u001b[0m)                   │ (\u001b[38;5;45mNone\u001b[0m, \u001b[38;5;34m97\u001b[0m, \u001b[38;5;34m8\u001b[0m)               │           \u001b[38;5;34m2,696\u001b[0m │\n",
              "├──────────────────────────────────────┼─────────────────────────────┼─────────────────┤\n",
              "│ max_pooling1d_10 (\u001b[38;5;33mMaxPooling1D\u001b[0m)      │ (\u001b[38;5;45mNone\u001b[0m, \u001b[38;5;34m48\u001b[0m, \u001b[38;5;34m8\u001b[0m)               │               \u001b[38;5;34m0\u001b[0m │\n",
              "├──────────────────────────────────────┼─────────────────────────────┼─────────────────┤\n",
              "│ conv1d_14 (\u001b[38;5;33mConv1D\u001b[0m)                   │ (\u001b[38;5;45mNone\u001b[0m, \u001b[38;5;34m37\u001b[0m, \u001b[38;5;34m8\u001b[0m)               │             \u001b[38;5;34m776\u001b[0m │\n",
              "├──────────────────────────────────────┼─────────────────────────────┼─────────────────┤\n",
              "│ max_pooling1d_11 (\u001b[38;5;33mMaxPooling1D\u001b[0m)      │ (\u001b[38;5;45mNone\u001b[0m, \u001b[38;5;34m18\u001b[0m, \u001b[38;5;34m8\u001b[0m)               │               \u001b[38;5;34m0\u001b[0m │\n",
              "├──────────────────────────────────────┼─────────────────────────────┼─────────────────┤\n",
              "│ conv1d_15 (\u001b[38;5;33mConv1D\u001b[0m)                   │ (\u001b[38;5;45mNone\u001b[0m, \u001b[38;5;34m13\u001b[0m, \u001b[38;5;34m8\u001b[0m)               │             \u001b[38;5;34m392\u001b[0m │\n",
              "├──────────────────────────────────────┼─────────────────────────────┼─────────────────┤\n",
              "│ global_average_pooling1d_3           │ (\u001b[38;5;45mNone\u001b[0m, \u001b[38;5;34m8\u001b[0m)                   │               \u001b[38;5;34m0\u001b[0m │\n",
              "│ (\u001b[38;5;33mGlobalAveragePooling1D\u001b[0m)             │                             │                 │\n",
              "├──────────────────────────────────────┼─────────────────────────────┼─────────────────┤\n",
              "│ dense_19 (\u001b[38;5;33mDense\u001b[0m)                     │ (\u001b[38;5;45mNone\u001b[0m, \u001b[38;5;34m1\u001b[0m)                   │               \u001b[38;5;34m9\u001b[0m │\n",
              "└──────────────────────────────────────┴─────────────────────────────┴─────────────────┘\n"
            ],
            "text/html": [
              "<pre style=\"white-space:pre;overflow-x:auto;line-height:normal;font-family:Menlo,'DejaVu Sans Mono',consolas,'Courier New',monospace\">┏━━━━━━━━━━━━━━━━━━━━━━━━━━━━━━━━━━━━━━┳━━━━━━━━━━━━━━━━━━━━━━━━━━━━━┳━━━━━━━━━━━━━━━━━┓\n",
              "┃<span style=\"font-weight: bold\"> Layer (type)                         </span>┃<span style=\"font-weight: bold\"> Output Shape                </span>┃<span style=\"font-weight: bold\">         Param # </span>┃\n",
              "┡━━━━━━━━━━━━━━━━━━━━━━━━━━━━━━━━━━━━━━╇━━━━━━━━━━━━━━━━━━━━━━━━━━━━━╇━━━━━━━━━━━━━━━━━┩\n",
              "│ input_layer_13 (<span style=\"color: #0087ff; text-decoration-color: #0087ff\">InputLayer</span>)          │ (<span style=\"color: #00d7ff; text-decoration-color: #00d7ff\">None</span>, <span style=\"color: #00af00; text-decoration-color: #00af00\">120</span>, <span style=\"color: #00af00; text-decoration-color: #00af00\">14</span>)             │               <span style=\"color: #00af00; text-decoration-color: #00af00\">0</span> │\n",
              "├──────────────────────────────────────┼─────────────────────────────┼─────────────────┤\n",
              "│ conv1d_13 (<span style=\"color: #0087ff; text-decoration-color: #0087ff\">Conv1D</span>)                   │ (<span style=\"color: #00d7ff; text-decoration-color: #00d7ff\">None</span>, <span style=\"color: #00af00; text-decoration-color: #00af00\">97</span>, <span style=\"color: #00af00; text-decoration-color: #00af00\">8</span>)               │           <span style=\"color: #00af00; text-decoration-color: #00af00\">2,696</span> │\n",
              "├──────────────────────────────────────┼─────────────────────────────┼─────────────────┤\n",
              "│ max_pooling1d_10 (<span style=\"color: #0087ff; text-decoration-color: #0087ff\">MaxPooling1D</span>)      │ (<span style=\"color: #00d7ff; text-decoration-color: #00d7ff\">None</span>, <span style=\"color: #00af00; text-decoration-color: #00af00\">48</span>, <span style=\"color: #00af00; text-decoration-color: #00af00\">8</span>)               │               <span style=\"color: #00af00; text-decoration-color: #00af00\">0</span> │\n",
              "├──────────────────────────────────────┼─────────────────────────────┼─────────────────┤\n",
              "│ conv1d_14 (<span style=\"color: #0087ff; text-decoration-color: #0087ff\">Conv1D</span>)                   │ (<span style=\"color: #00d7ff; text-decoration-color: #00d7ff\">None</span>, <span style=\"color: #00af00; text-decoration-color: #00af00\">37</span>, <span style=\"color: #00af00; text-decoration-color: #00af00\">8</span>)               │             <span style=\"color: #00af00; text-decoration-color: #00af00\">776</span> │\n",
              "├──────────────────────────────────────┼─────────────────────────────┼─────────────────┤\n",
              "│ max_pooling1d_11 (<span style=\"color: #0087ff; text-decoration-color: #0087ff\">MaxPooling1D</span>)      │ (<span style=\"color: #00d7ff; text-decoration-color: #00d7ff\">None</span>, <span style=\"color: #00af00; text-decoration-color: #00af00\">18</span>, <span style=\"color: #00af00; text-decoration-color: #00af00\">8</span>)               │               <span style=\"color: #00af00; text-decoration-color: #00af00\">0</span> │\n",
              "├──────────────────────────────────────┼─────────────────────────────┼─────────────────┤\n",
              "│ conv1d_15 (<span style=\"color: #0087ff; text-decoration-color: #0087ff\">Conv1D</span>)                   │ (<span style=\"color: #00d7ff; text-decoration-color: #00d7ff\">None</span>, <span style=\"color: #00af00; text-decoration-color: #00af00\">13</span>, <span style=\"color: #00af00; text-decoration-color: #00af00\">8</span>)               │             <span style=\"color: #00af00; text-decoration-color: #00af00\">392</span> │\n",
              "├──────────────────────────────────────┼─────────────────────────────┼─────────────────┤\n",
              "│ global_average_pooling1d_3           │ (<span style=\"color: #00d7ff; text-decoration-color: #00d7ff\">None</span>, <span style=\"color: #00af00; text-decoration-color: #00af00\">8</span>)                   │               <span style=\"color: #00af00; text-decoration-color: #00af00\">0</span> │\n",
              "│ (<span style=\"color: #0087ff; text-decoration-color: #0087ff\">GlobalAveragePooling1D</span>)             │                             │                 │\n",
              "├──────────────────────────────────────┼─────────────────────────────┼─────────────────┤\n",
              "│ dense_19 (<span style=\"color: #0087ff; text-decoration-color: #0087ff\">Dense</span>)                     │ (<span style=\"color: #00d7ff; text-decoration-color: #00d7ff\">None</span>, <span style=\"color: #00af00; text-decoration-color: #00af00\">1</span>)                   │               <span style=\"color: #00af00; text-decoration-color: #00af00\">9</span> │\n",
              "└──────────────────────────────────────┴─────────────────────────────┴─────────────────┘\n",
              "</pre>\n"
            ]
          },
          "metadata": {}
        },
        {
          "output_type": "display_data",
          "data": {
            "text/plain": [
              "\u001b[1m Total params: \u001b[0m\u001b[38;5;34m3,873\u001b[0m (15.13 KB)\n"
            ],
            "text/html": [
              "<pre style=\"white-space:pre;overflow-x:auto;line-height:normal;font-family:Menlo,'DejaVu Sans Mono',consolas,'Courier New',monospace\"><span style=\"font-weight: bold\"> Total params: </span><span style=\"color: #00af00; text-decoration-color: #00af00\">3,873</span> (15.13 KB)\n",
              "</pre>\n"
            ]
          },
          "metadata": {}
        },
        {
          "output_type": "display_data",
          "data": {
            "text/plain": [
              "\u001b[1m Trainable params: \u001b[0m\u001b[38;5;34m3,873\u001b[0m (15.13 KB)\n"
            ],
            "text/html": [
              "<pre style=\"white-space:pre;overflow-x:auto;line-height:normal;font-family:Menlo,'DejaVu Sans Mono',consolas,'Courier New',monospace\"><span style=\"font-weight: bold\"> Trainable params: </span><span style=\"color: #00af00; text-decoration-color: #00af00\">3,873</span> (15.13 KB)\n",
              "</pre>\n"
            ]
          },
          "metadata": {}
        },
        {
          "output_type": "display_data",
          "data": {
            "text/plain": [
              "\u001b[1m Non-trainable params: \u001b[0m\u001b[38;5;34m0\u001b[0m (0.00 B)\n"
            ],
            "text/html": [
              "<pre style=\"white-space:pre;overflow-x:auto;line-height:normal;font-family:Menlo,'DejaVu Sans Mono',consolas,'Courier New',monospace\"><span style=\"font-weight: bold\"> Non-trainable params: </span><span style=\"color: #00af00; text-decoration-color: #00af00\">0</span> (0.00 B)\n",
              "</pre>\n"
            ]
          },
          "metadata": {}
        },
        {
          "output_type": "stream",
          "name": "stdout",
          "text": [
            "Epoch 1/10\n",
            "\u001b[1m819/819\u001b[0m \u001b[32m━━━━━━━━━━━━━━━━━━━━\u001b[0m\u001b[37m\u001b[0m \u001b[1m48s\u001b[0m 53ms/step - loss: 30.8236 - mae: 4.2917 - val_loss: 16.4790 - val_mae: 3.2081\n",
            "Epoch 2/10\n",
            "\u001b[1m819/819\u001b[0m \u001b[32m━━━━━━━━━━━━━━━━━━━━\u001b[0m\u001b[37m\u001b[0m \u001b[1m48s\u001b[0m 58ms/step - loss: 17.6111 - mae: 3.2864 - val_loss: 15.1719 - val_mae: 3.0928\n",
            "Epoch 3/10\n",
            "\u001b[1m819/819\u001b[0m \u001b[32m━━━━━━━━━━━━━━━━━━━━\u001b[0m\u001b[37m\u001b[0m \u001b[1m47s\u001b[0m 57ms/step - loss: 14.2468 - mae: 2.9856 - val_loss: 14.4944 - val_mae: 2.9960\n",
            "Epoch 4/10\n",
            "\u001b[1m819/819\u001b[0m \u001b[32m━━━━━━━━━━━━━━━━━━━━\u001b[0m\u001b[37m\u001b[0m \u001b[1m72s\u001b[0m 46ms/step - loss: 13.3573 - mae: 2.8943 - val_loss: 14.4013 - val_mae: 2.9981\n",
            "Epoch 5/10\n",
            "\u001b[1m819/819\u001b[0m \u001b[32m━━━━━━━━━━━━━━━━━━━━\u001b[0m\u001b[37m\u001b[0m \u001b[1m47s\u001b[0m 57ms/step - loss: 12.6514 - mae: 2.8098 - val_loss: 15.5773 - val_mae: 3.0983\n",
            "Epoch 6/10\n",
            "\u001b[1m819/819\u001b[0m \u001b[32m━━━━━━━━━━━━━━━━━━━━\u001b[0m\u001b[37m\u001b[0m \u001b[1m72s\u001b[0m 46ms/step - loss: 12.1645 - mae: 2.7559 - val_loss: 14.9472 - val_mae: 3.0444\n",
            "Epoch 7/10\n",
            "\u001b[1m819/819\u001b[0m \u001b[32m━━━━━━━━━━━━━━━━━━━━\u001b[0m\u001b[37m\u001b[0m \u001b[1m40s\u001b[0m 45ms/step - loss: 11.7081 - mae: 2.7039 - val_loss: 14.5450 - val_mae: 2.9944\n",
            "Epoch 8/10\n",
            "\u001b[1m819/819\u001b[0m \u001b[32m━━━━━━━━━━━━━━━━━━━━\u001b[0m\u001b[37m\u001b[0m \u001b[1m44s\u001b[0m 48ms/step - loss: 11.2976 - mae: 2.6559 - val_loss: 17.3226 - val_mae: 3.2802\n",
            "Epoch 9/10\n",
            "\u001b[1m819/819\u001b[0m \u001b[32m━━━━━━━━━━━━━━━━━━━━\u001b[0m\u001b[37m\u001b[0m \u001b[1m50s\u001b[0m 59ms/step - loss: 10.9910 - mae: 2.6219 - val_loss: 16.1282 - val_mae: 3.1657\n",
            "Epoch 10/10\n",
            "\u001b[1m819/819\u001b[0m \u001b[32m━━━━━━━━━━━━━━━━━━━━\u001b[0m\u001b[37m\u001b[0m \u001b[1m70s\u001b[0m 44ms/step - loss: 10.6555 - mae: 2.5801 - val_loss: 14.8573 - val_mae: 3.0396\n"
          ]
        }
      ]
    },
    {
      "cell_type": "code",
      "source": [
        "model = keras.models.load_model(\"jena_conv.keras\")\n",
        "print(f\"테스트 MAE : {model.evaluate(test_dataset)[1]:.2f}\")"
      ],
      "metadata": {
        "colab": {
          "base_uri": "https://localhost:8080/"
        },
        "id": "sZs4OTfmVbdK",
        "outputId": "6ceb7822-cd30-4aad-9b96-31d01be3d1a4"
      },
      "execution_count": 83,
      "outputs": [
        {
          "output_type": "stream",
          "name": "stdout",
          "text": [
            "\u001b[1m405/405\u001b[0m \u001b[32m━━━━━━━━━━━━━━━━━━━━\u001b[0m\u001b[37m\u001b[0m \u001b[1m13s\u001b[0m 31ms/step - loss: 15.9151 - mae: 3.1655\n",
            "테스트 MAE : 3.17\n"
          ]
        }
      ]
    },
    {
      "cell_type": "code",
      "source": [
        "loss = history.history['mae']\n",
        "val_loss = history.history['val_mae']\n",
        "epochs = range(1, len(loss) + 1)\n",
        "plt.figure()\n",
        "plt.plot(epochs, loss, \"bo\", label = \"Training MAE\")\n",
        "plt.plot(epochs, val_loss, 'b', label = \"Validation MAE\")\n",
        "plt.title(\"Training and validation MAE\")\n",
        "plt.legend()\n",
        "plt.show()"
      ],
      "metadata": {
        "colab": {
          "base_uri": "https://localhost:8080/",
          "height": 452
        },
        "id": "_AGr41UaXraA",
        "outputId": "eadcd1c2-8d1f-4d76-9da9-79f947716fd9"
      },
      "execution_count": 84,
      "outputs": [
        {
          "output_type": "display_data",
          "data": {
            "text/plain": [
              "<Figure size 640x480 with 1 Axes>"
            ],
            "image/png": "[encoded data removed]"
          },
          "metadata": {}
        }
      ]
    },
    {
      "cell_type": "markdown",
      "source": [
        "이 모델은 밀집 연결 모델보다 더 성능이 나쁨.  \n",
        "무엇이 문제일까? 두 가지가 있다.  \n",
        "1. 첫째, 날씨 데이터는 평행 이동 불변성 가정을 많이 따르지 않음. 데이터에 일별 주기성이 있지만, 아침 데이터는 저녁이나 한밤중의 데이터와 성질이 다름. 날씨 데이터는 매우 특정한 시간 범위에 대해서만 평행 이동 불변성을 가짐\n",
        "\n",
        "2. 둘째, 이 데이터는 순서가 많이 중요함. 최근 데이터가 5일 전 데이터보다 내일 온도를 예측하는데 훨씬 더 유용함. 하지만 1D 컨브넷은 이런 사실을 활용할 수 없음. 특히 최대 풀링과 전역 평균 풀링 층 대문에 순서 정보가 많이 삭제됨."
      ],
      "metadata": {
        "id": "oZzyjQ3IXusk"
      }
    },
    {
      "cell_type": "markdown",
      "source": [
        "# 순환 신경망\n",
        "합성곱 모델은 데이터의 모든 부분을 비슷한 방식으로 처리했으며 풀링을 적용하여 순서 정보를 잃어버림. 이런 방법 대신에 인과 관계와 순서가 의미 있는 시퀀스 데이터를 그대로 사용해 보자.  \n",
        "\n",
        "이런 문제를 위해 특별히 고안된 신경망 구조가 순환 신경망임.  \n",
        "그중에서도 LSTM층이 오랫동안 인기가 많았음. 일단 LSTM층을 작동시켜 보자"
      ],
      "metadata": {
        "id": "KhcaMSejYMAf"
      }
    },
    {
      "cell_type": "code",
      "source": [
        "inputs - keras.Input(shape = (sequence_length, raw_data.shape[-1]))\n",
        "x = layers.LSTM(16)(inputs)\n",
        "outputs = layers.Dense(1)(x)\n",
        "model = keras.Model(inputs,outputs)\n",
        "model.summary()\n",
        "\n",
        "callbacks = [\n",
        "    keras.callbacks.ModelCheckpoint(\"jena_conv.keras\",\n",
        "                                    save_best_only = True)\n",
        "]\n",
        "\n",
        "model.compile(optimizer = 'rmsprop', loss = \"mse\", metrics = ['mae'])\n",
        "history = model.fit(train_dataset,\n",
        "                    epochs = 10,\n",
        "                    validation_data = val_dataset,\n",
        "                    callbacks = callbacks)\n"
      ],
      "metadata": {
        "id": "dyTl7o4rXwka"
      },
      "execution_count": null,
      "outputs": []
    },
    {
      "cell_type": "code",
      "source": [
        "model = keras.models.load_model(\"jena_lstm.keras\")\n",
        "print(f\"테스트 MAE : {model.evaluate(test_dataset)[1]:.2f}\")"
      ],
      "metadata": {
        "colab": {
          "base_uri": "https://localhost:8080/"
        },
        "id": "_JN3hTDzb5Oi",
        "outputId": "2503a742-10cd-48c7-8010-603c3df65335"
      },
      "execution_count": 87,
      "outputs": [
        {
          "output_type": "stream",
          "name": "stdout",
          "text": [
            "\u001b[1m405/405\u001b[0m \u001b[32m━━━━━━━━━━━━━━━━━━━━\u001b[0m\u001b[37m\u001b[0m \u001b[1m14s\u001b[0m 34ms/step - loss: 11.0089 - mae: 2.5882\n",
            "테스트 MAE : 2.59\n"
          ]
        }
      ]
    },
    {
      "cell_type": "code",
      "source": [
        "loss = history.history['mae']\n",
        "val_loss = history.history['val_mae']\n",
        "epochs = range(1, len(loss) + 1)\n",
        "plt.figure()\n",
        "plt.plot(epochs, loss, \"bo\", label = \"Training MAE\")\n",
        "plt.plot(epochs, val_loss, 'b', label = \"Validation MAE\")\n",
        "plt.title(\"Training and validation MAE\")\n",
        "plt.ylim(2.0, 4.0)\n",
        "plt.legend()\n",
        "plt.show()"
      ],
      "metadata": {
        "colab": {
          "base_uri": "https://localhost:8080/",
          "height": 452
        },
        "id": "xyGth59uZQYv",
        "outputId": "531d2310-d8c2-4475-ab98-bb2d0a550aa4"
      },
      "execution_count": 96,
      "outputs": [
        {
          "output_type": "display_data",
          "data": {
            "text/plain": [
              "<Figure size 640x480 with 1 Axes>"
            ],
            "image/png": "[encoded data removed]"
          },
          "metadata": {}
        }
      ]
    }
  ]
}