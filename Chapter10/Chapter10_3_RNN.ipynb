{
  "nbformat": 4,
  "nbformat_minor": 0,
  "metadata": {
    "colab": {
      "provenance": [],
      "gpuType": "T4",
      "authorship_tag": "ABX9TyOI23ZPS92cSXTO2ZQZDAwB",
      "include_colab_link": true
    },
    "kernelspec": {
      "name": "python3",
      "display_name": "Python 3"
    },
    "language_info": {
      "name": "python"
    },
    "accelerator": "GPU"
  },
  "cells": [
    {
      "cell_type": "markdown",
      "metadata": {
        "id": "view-in-github",
        "colab_type": "text"
      },
      "source": [
        "<a href=\"https://colab.research.google.com/github/hws2002/Deep_Learning_with_Keras/blob/main/Chapter10/Chapter10_3_RNN.ipynb\" target=\"_parent\"><img src=\"https://colab.research.google.com/assets/colab-badge.svg\" alt=\"Open In Colab\"/></a>"
      ]
    },
    {
      "cell_type": "code",
      "execution_count": 1,
      "metadata": {
        "id": "6KZpIQ-4h6aU"
      },
      "outputs": [],
      "source": [
        "import numpy as np\n",
        "\n",
        "\n",
        "timesteps = 100\n",
        "input_features = 32\n",
        "output_features = 64\n",
        "\n",
        "inputs = np.random.random((timesteps, input_features))\n",
        "state_t = np.random.random((output_features,))\n",
        "W = np.random.random((output_features, input_features))\n",
        "U = np.random.random((output_features, output_features))\n",
        "b = np.random.random((output_features,))\n",
        "\n",
        "successive_outputs = []\n",
        "for input_t in inputs:\n",
        "  output_t = np.tanh(np.dot(W, input_t), np.dot(U, state_t) + b)\n",
        "  successive_outputs.append(output_t)\n",
        "  state_t = output_t\n",
        "\n",
        "final_output_sequence = np.stack(successive_outputs, axis = 0)\n",
        "#최종 출력은 (timesteps, output_features) 크기의 랭크-2 텐서임"
      ]
    },
    {
      "cell_type": "code",
      "source": [
        "final_output_sequence"
      ],
      "metadata": {
        "colab": {
          "base_uri": "https://localhost:8080/"
        },
        "id": "Ar41O4iYk_Or",
        "outputId": "7e1969a4-3310-4c27-fda4-0f2752a62b48"
      },
      "execution_count": 2,
      "outputs": [
        {
          "output_type": "execute_result",
          "data": {
            "text/plain": [
              "array([[0.99999954, 0.99999977, 0.99999987, ..., 0.99999896, 0.99999995,\n",
              "        0.99999989],\n",
              "       [0.99999789, 0.99999996, 0.99999855, ..., 0.99999985, 0.99999992,\n",
              "        0.99999988],\n",
              "       [0.9999998 , 0.99999998, 0.99999997, ..., 0.99999996, 0.99999998,\n",
              "        1.        ],\n",
              "       ...,\n",
              "       [0.99999971, 0.99999996, 0.99999996, ..., 0.99999989, 0.99999999,\n",
              "        1.        ],\n",
              "       [0.99999977, 0.99999998, 0.99999999, ..., 0.9999999 , 0.99999997,\n",
              "        1.        ],\n",
              "       [0.99998964, 0.99999992, 0.99999958, ..., 0.99999885, 0.99999988,\n",
              "        0.99999992]])"
            ]
          },
          "metadata": {},
          "execution_count": 2
        }
      ]
    },
    {
      "cell_type": "code",
      "source": [
        "import keras\n",
        "from keras import layers\n",
        "num_features = 14\n",
        "inputs = keras.Input(shape = (None, num_features))\n",
        "outputs = layers.SimpleRNN(16)(inputs)\n"
      ],
      "metadata": {
        "id": "urf3Q2-NlIGG"
      },
      "execution_count": 4,
      "outputs": []
    },
    {
      "cell_type": "code",
      "source": [
        "num_features = 14\n",
        "steps = 120\n",
        "\n",
        "inputs = keras.Input(shape = (steps, num_features))\n",
        "outputs = layers.SimpleRNN(16, return_sequences = False)(inputs) # 기본값\n",
        "print(outputs.shape)"
      ],
      "metadata": {
        "colab": {
          "base_uri": "https://localhost:8080/"
        },
        "id": "ORLoQMHImrsd",
        "outputId": "e164882a-9200-42be-ccea-e569ef7e3edb"
      },
      "execution_count": 6,
      "outputs": [
        {
          "output_type": "stream",
          "name": "stdout",
          "text": [
            "(None, 16)\n"
          ]
        }
      ]
    },
    {
      "cell_type": "code",
      "source": [
        "num_features = 14\n",
        "steps = 120\n",
        "\n",
        "inputs = keras.Input(shape = (steps, num_features))\n",
        "outputs = layers.SimpleRNN(16, return_sequences = True)(inputs) # 기본값\n",
        "print(outputs.shape)"
      ],
      "metadata": {
        "colab": {
          "base_uri": "https://localhost:8080/"
        },
        "id": "WayCKs6-m93l",
        "outputId": "38169146-f2db-454a-ebfd-9024e0ad9f91"
      },
      "execution_count": 7,
      "outputs": [
        {
          "output_type": "stream",
          "name": "stdout",
          "text": [
            "(None, 120, 16)\n"
          ]
        }
      ]
    },
    {
      "cell_type": "code",
      "source": [
        "inputs = keras.Input(shape = (steps, num_features))\n",
        "x = layers.SimpleRNN(16, return_sequences = True)(inputs) # 기본값\n",
        "x = layers.SimpleRNN(16, return_sequences = True)(x) # 기본값\n",
        "outputs = layers.SimpleRNN(16)(x)\n",
        "print(outputs.shape)"
      ],
      "metadata": {
        "colab": {
          "base_uri": "https://localhost:8080/"
        },
        "id": "KXLI2GWrnNAr",
        "outputId": "04f79af3-1729-4721-8baa-5e7f9320b50b"
      },
      "execution_count": 13,
      "outputs": [
        {
          "output_type": "stream",
          "name": "stdout",
          "text": [
            "(None, 120, 16)\n",
            "(None, 16)\n"
          ]
        }
      ]
    }
  ]
}