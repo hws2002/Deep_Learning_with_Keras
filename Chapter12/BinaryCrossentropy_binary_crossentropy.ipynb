{
  "nbformat": 4,
  "nbformat_minor": 0,
  "metadata": {
    "colab": {
      "provenance": [],
      "authorship_tag": "ABX9TyPExhsTbNdioFMLV5Izw9+n",
      "include_colab_link": true
    },
    "kernelspec": {
      "name": "python3",
      "display_name": "Python 3"
    },
    "language_info": {
      "name": "python"
    }
  },
  "cells": [
    {
      "cell_type": "markdown",
      "metadata": {
        "id": "view-in-github",
        "colab_type": "text"
      },
      "source": [
        "<a href=\"https://colab.research.google.com/github/hws2002/Deep_Learning_with_Keras/blob/main/Chapter12/BinaryCrossentropy_binary_crossentropy.ipynb\" target=\"_parent\"><img src=\"https://colab.research.google.com/assets/colab-badge.svg\" alt=\"Open In Colab\"/></a>"
      ]
    },
    {
      "cell_type": "code",
      "source": [
        "import keras"
      ],
      "metadata": {
        "id": "zNdd9Xz5_IA3"
      },
      "execution_count": 5,
      "outputs": []
    },
    {
      "cell_type": "code",
      "execution_count": 6,
      "metadata": {
        "colab": {
          "base_uri": "https://localhost:8080/"
        },
        "id": "fkoeYaCn--aS",
        "outputId": "6a00ed7c-3c65-419a-bf82-0f8c6b97095f"
      },
      "outputs": [
        {
          "output_type": "execute_result",
          "data": {
            "text/plain": [
              "(2, 4, 4, 1)"
            ]
          },
          "metadata": {},
          "execution_count": 6
        }
      ],
      "source": [
        "import numpy as np\n",
        "img = np.ones((1,4,4,1))\n",
        "img[0]\n",
        "\n",
        "y_true = np.array(\n",
        "    [\n",
        "        [[[1.],\n",
        "        [0.],\n",
        "        [0.],\n",
        "        [0.]],\n",
        "\n",
        "       [[0.],\n",
        "        [1.],\n",
        "        [0.],\n",
        "        [0.]],\n",
        "\n",
        "       [[0.],\n",
        "        [0.],\n",
        "        [1.],\n",
        "        [0.]],\n",
        "\n",
        "       [[0.],\n",
        "        [0.],\n",
        "        [0.],\n",
        "        [1.]]],\n",
        "        [[[1.],\n",
        "        [0.],\n",
        "        [0.],\n",
        "        [0.]],\n",
        "\n",
        "       [[0.],\n",
        "        [1.],\n",
        "        [0.],\n",
        "        [0.]],\n",
        "\n",
        "       [[0.],\n",
        "        [0.],\n",
        "        [1.],\n",
        "        [0.]],\n",
        "\n",
        "       [[0.],\n",
        "        [0.],\n",
        "        [0.],\n",
        "        [1.]]]\n",
        "    ]\n",
        ")\n",
        "y_true.shape"
      ]
    },
    {
      "cell_type": "code",
      "source": [
        "y_pred = np.random.uniform( 0.,1., (2,4,4,1))\n",
        "# y_pred = np.random.randn(1,4,4,1)\n",
        "y_pred"
      ],
      "metadata": {
        "colab": {
          "base_uri": "https://localhost:8080/"
        },
        "id": "DWEt2AVE_EDG",
        "outputId": "2480c633-6458-48da-d8cf-a9f1129bf54a"
      },
      "execution_count": 7,
      "outputs": [
        {
          "output_type": "execute_result",
          "data": {
            "text/plain": [
              "array([[[[0.91898888],\n",
              "         [0.94655193],\n",
              "         [0.40438366],\n",
              "         [0.60319126]],\n",
              "\n",
              "        [[0.47290383],\n",
              "         [0.83940743],\n",
              "         [0.3734726 ],\n",
              "         [0.09686357]],\n",
              "\n",
              "        [[0.18343606],\n",
              "         [0.25997016],\n",
              "         [0.5435703 ],\n",
              "         [0.55898521]],\n",
              "\n",
              "        [[0.55417768],\n",
              "         [0.64225547],\n",
              "         [0.34639724],\n",
              "         [0.1133084 ]]],\n",
              "\n",
              "\n",
              "       [[[0.66085685],\n",
              "         [0.85196787],\n",
              "         [0.24393725],\n",
              "         [0.90326796]],\n",
              "\n",
              "        [[0.76672183],\n",
              "         [0.79900228],\n",
              "         [0.09894521],\n",
              "         [0.54235994]],\n",
              "\n",
              "        [[0.14876183],\n",
              "         [0.60180765],\n",
              "         [0.2669363 ],\n",
              "         [0.56619736]],\n",
              "\n",
              "        [[0.27322482],\n",
              "         [0.65096448],\n",
              "         [0.32396262],\n",
              "         [0.04711204]]]])"
            ]
          },
          "metadata": {},
          "execution_count": 7
        }
      ]
    },
    {
      "cell_type": "code",
      "source": [
        "bce = keras.losses.BinaryCrossentropy()\n",
        "bce(y_true,y_pred).numpy()"
      ],
      "metadata": {
        "colab": {
          "base_uri": "https://localhost:8080/"
        },
        "id": "gJ4y34ky_Ztd",
        "outputId": "adf4d2e3-dc7b-4942-f6aa-ae1d503ce50a"
      },
      "execution_count": 13,
      "outputs": [
        {
          "output_type": "execute_result",
          "data": {
            "text/plain": [
              "0.8679227"
            ]
          },
          "metadata": {},
          "execution_count": 13
        }
      ]
    },
    {
      "cell_type": "code",
      "source": [
        "bce = keras.losses.BinaryCrossentropy(axis = (1,2), reduction = None)\n",
        "bce(y_true,y_pred).numpy()"
      ],
      "metadata": {
        "colab": {
          "base_uri": "https://localhost:8080/"
        },
        "id": "LAj0aOYp_EQm",
        "outputId": "8e20a26a-e17a-4108-a944-028f250e673b"
      },
      "execution_count": 8,
      "outputs": [
        {
          "output_type": "execute_result",
          "data": {
            "text/plain": [
              "array([[0.7632199],\n",
              "       [0.9726257]], dtype=float32)"
            ]
          },
          "metadata": {},
          "execution_count": 8
        }
      ]
    },
    {
      "cell_type": "code",
      "source": [
        "bce = keras.losses.BinaryCrossentropy(axis = (1,2), reduction = 'sum')\n",
        "bce(y_true,y_pred).numpy()"
      ],
      "metadata": {
        "colab": {
          "base_uri": "https://localhost:8080/"
        },
        "id": "NepM5Bry_HKW",
        "outputId": "a0d64eb3-dcb9-470b-bf07-54478cd507bc"
      },
      "execution_count": 9,
      "outputs": [
        {
          "output_type": "execute_result",
          "data": {
            "text/plain": [
              "1.7358456"
            ]
          },
          "metadata": {},
          "execution_count": 9
        }
      ]
    },
    {
      "cell_type": "code",
      "source": [
        "bce = keras.losses.BinaryCrossentropy(axis = (1,2), reduction = 'sum_over_batch_size')\n",
        "bce(y_true,y_pred).numpy()"
      ],
      "metadata": {
        "colab": {
          "base_uri": "https://localhost:8080/"
        },
        "id": "kXdcNkn6_I6e",
        "outputId": "8ff3a972-f529-4e3e-8ae2-321b16a68783"
      },
      "execution_count": 11,
      "outputs": [
        {
          "output_type": "execute_result",
          "data": {
            "text/plain": [
              "0.8679228"
            ]
          },
          "metadata": {},
          "execution_count": 11
        }
      ]
    },
    {
      "cell_type": "code",
      "source": [
        "import tensorflow as tf\n",
        "tf.reduce_mean(tf.reduce_sum(keras.losses.binary_crossentropy(y_true, y_pred), axis = (1,2)))"
      ],
      "metadata": {
        "colab": {
          "base_uri": "https://localhost:8080/"
        },
        "id": "gOSM9bE5_UjF",
        "outputId": "f9b5fb7a-4508-49ea-bffc-3bf41e684aac"
      },
      "execution_count": 12,
      "outputs": [
        {
          "output_type": "execute_result",
          "data": {
            "text/plain": [
              "<tf.Tensor: shape=(), dtype=float64, numpy=13.886763559501397>"
            ]
          },
          "metadata": {},
          "execution_count": 12
        }
      ]
    }
  ]
}