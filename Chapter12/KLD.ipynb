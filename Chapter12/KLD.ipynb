{
  "nbformat": 4,
  "nbformat_minor": 0,
  "metadata": {
    "colab": {
      "provenance": [],
      "authorship_tag": "ABX9TyNeor851hJ8Do+37r+L0lHO",
      "include_colab_link": true
    },
    "kernelspec": {
      "name": "python3",
      "display_name": "Python 3"
    },
    "language_info": {
      "name": "python"
    }
  },
  "cells": [
    {
      "cell_type": "markdown",
      "metadata": {
        "id": "view-in-github",
        "colab_type": "text"
      },
      "source": [
        "<a href=\"https://colab.research.google.com/github/hws2002/Deep_Learning_with_Keras/blob/main/Chapter12/KLD.ipynb\" target=\"_parent\"><img src=\"https://colab.research.google.com/assets/colab-badge.svg\" alt=\"Open In Colab\"/></a>"
      ]
    },
    {
      "cell_type": "code",
      "execution_count": null,
      "metadata": {
        "id": "NUThgt_QFzwO"
      },
      "outputs": [],
      "source": [
        "import numpy as np\n",
        "\n",
        "def entropy(prob):\n",
        "  return -np.sum(prob * np.log(prob))"
      ]
    },
    {
      "cell_type": "code",
      "source": [
        "import tensorflow as tf\n",
        "\n",
        "def entropy_tf(prob):\n",
        "  return -tf.reduce_sum(prob * tf.math.log(prob))"
      ],
      "metadata": {
        "id": "lWpLZzgyGB3u"
      },
      "execution_count": null,
      "outputs": []
    },
    {
      "cell_type": "code",
      "source": [
        "p = tf.random.uniform((6,), 1,6, )\n",
        "p /= tf.reduce_sum(p)\n",
        "p"
      ],
      "metadata": {
        "colab": {
          "base_uri": "https://localhost:8080/"
        },
        "id": "Rehlp6zjGGI8",
        "outputId": "c4d5429d-83d9-4c6c-8d52-02ed3a0a5e24"
      },
      "execution_count": null,
      "outputs": [
        {
          "output_type": "execute_result",
          "data": {
            "text/plain": [
              "<tf.Tensor: shape=(6,), dtype=float32, numpy=\n",
              "array([0.11061365, 0.1633855 , 0.33320987, 0.1949844 , 0.10434715,\n",
              "       0.09345939], dtype=float32)>"
            ]
          },
          "metadata": {},
          "execution_count": 12
        }
      ]
    },
    {
      "cell_type": "code",
      "source": [
        "entropy(p)"
      ],
      "metadata": {
        "colab": {
          "base_uri": "https://localhost:8080/"
        },
        "id": "RQg0iHGRGR8L",
        "outputId": "a6be563f-5a93-4e8f-b1c6-1493421e514f"
      },
      "execution_count": null,
      "outputs": [
        {
          "output_type": "execute_result",
          "data": {
            "text/plain": [
              "1.6818429"
            ]
          },
          "metadata": {},
          "execution_count": 16
        }
      ]
    },
    {
      "cell_type": "code",
      "source": [
        "entropy_tf(p)"
      ],
      "metadata": {
        "colab": {
          "base_uri": "https://localhost:8080/"
        },
        "id": "fcNI35A8Glq4",
        "outputId": "07021b0f-6713-4886-eec4-ad9c8c23c7ce"
      },
      "execution_count": null,
      "outputs": [
        {
          "output_type": "execute_result",
          "data": {
            "text/plain": [
              "<tf.Tensor: shape=(), dtype=float32, numpy=1.6818428>"
            ]
          },
          "metadata": {},
          "execution_count": 19
        }
      ]
    },
    {
      "cell_type": "code",
      "source": [
        "def crossentropy_tf(p,q):\n",
        "  return -tf.reduce_sum(p * tf.math.log(q))"
      ],
      "metadata": {
        "id": "VPA9bCzMGpr3"
      },
      "execution_count": null,
      "outputs": []
    },
    {
      "cell_type": "code",
      "source": [
        "def kld(p,q):\n",
        "  return crossentropy_tf(p,q) - entropy(p)"
      ],
      "metadata": {
        "id": "GE4-eeYxGyjZ"
      },
      "execution_count": null,
      "outputs": []
    },
    {
      "cell_type": "code",
      "source": [
        "original_p = tf.constant([1/6, 1/6, 1/6, 1/6, 1/6, 1/6], dtype = tf.float32)\n",
        "original_p"
      ],
      "metadata": {
        "colab": {
          "base_uri": "https://localhost:8080/"
        },
        "id": "IwdZnr5yHC85",
        "outputId": "660ec557-1582-422b-cb5c-519bb5b99fd2"
      },
      "execution_count": null,
      "outputs": [
        {
          "output_type": "execute_result",
          "data": {
            "text/plain": [
              "<tf.Tensor: shape=(6,), dtype=float32, numpy=\n",
              "array([0.16666667, 0.16666667, 0.16666667, 0.16666667, 0.16666667,\n",
              "       0.16666667], dtype=float32)>"
            ]
          },
          "metadata": {},
          "execution_count": 25
        }
      ]
    },
    {
      "cell_type": "code",
      "source": [
        "# 최대 엔트로피를 갖는 균등 분포\n",
        "entropy_tf(original_p)"
      ],
      "metadata": {
        "colab": {
          "base_uri": "https://localhost:8080/"
        },
        "id": "9xVTpalbIPad",
        "outputId": "6558d888-0d68-4229-e84c-63301bbf72d5"
      },
      "execution_count": null,
      "outputs": [
        {
          "output_type": "execute_result",
          "data": {
            "text/plain": [
              "<tf.Tensor: shape=(), dtype=float32, numpy=1.7917597>"
            ]
          },
          "metadata": {},
          "execution_count": 34
        }
      ]
    },
    {
      "cell_type": "code",
      "source": [
        "eps = 1e-10\n",
        "q = tf.constant([eps,eps,eps,eps,eps, 1 - 5*eps], dtype = tf.float32)"
      ],
      "metadata": {
        "id": "7BWO-aaTHa9b"
      },
      "execution_count": null,
      "outputs": []
    },
    {
      "cell_type": "code",
      "source": [
        "kld(original_p,q)"
      ],
      "metadata": {
        "colab": {
          "base_uri": "https://localhost:8080/"
        },
        "id": "DiwWRCe5HMHF",
        "outputId": "90046ca7-e60b-4695-809b-488378d8a94a"
      },
      "execution_count": null,
      "outputs": [
        {
          "output_type": "execute_result",
          "data": {
            "text/plain": [
              "<tf.Tensor: shape=(), dtype=float32, numpy=17.39645>"
            ]
          },
          "metadata": {},
          "execution_count": 30
        }
      ]
    },
    {
      "cell_type": "code",
      "source": [
        "q_same = original_p\n",
        "kld(original_p, q_same)"
      ],
      "metadata": {
        "colab": {
          "base_uri": "https://localhost:8080/"
        },
        "id": "c6-oTIbFHidV",
        "outputId": "54eb2539-9ddb-4e8f-e8aa-63aea8009947"
      },
      "execution_count": null,
      "outputs": [
        {
          "output_type": "execute_result",
          "data": {
            "text/plain": [
              "<tf.Tensor: shape=(), dtype=float32, numpy=0.0>"
            ]
          },
          "metadata": {},
          "execution_count": 33
        }
      ]
    },
    {
      "cell_type": "code",
      "source": [
        "q_sim = tf.Variable(original_p)\n",
        "q_sim[0].assign(q_sim[0] + 0.1)\n",
        "q_sim[1].assign(q_sim[1] - 0.1)\n",
        "q_sim"
      ],
      "metadata": {
        "colab": {
          "base_uri": "https://localhost:8080/"
        },
        "id": "w23DKj12Hx1R",
        "outputId": "612ec68c-5ba8-4344-a4fa-39a272fdf9ab"
      },
      "execution_count": null,
      "outputs": [
        {
          "output_type": "execute_result",
          "data": {
            "text/plain": [
              "<tf.Variable 'Variable:0' shape=(6,) dtype=float32, numpy=\n",
              "array([0.26666668, 0.06666667, 0.16666667, 0.16666667, 0.16666667,\n",
              "       0.16666667], dtype=float32)>"
            ]
          },
          "metadata": {},
          "execution_count": 54
        }
      ]
    },
    {
      "cell_type": "code",
      "source": [
        "kld(original_p, q_sim)"
      ],
      "metadata": {
        "colab": {
          "base_uri": "https://localhost:8080/"
        },
        "id": "9z8PFUR7IXdE",
        "outputId": "119af4da-38f2-40e5-cb05-8ed4091dd8d6"
      },
      "execution_count": null,
      "outputs": [
        {
          "output_type": "execute_result",
          "data": {
            "text/plain": [
              "<tf.Tensor: shape=(), dtype=float32, numpy=0.07438111>"
            ]
          },
          "metadata": {},
          "execution_count": 55
        }
      ]
    }
  ]
}