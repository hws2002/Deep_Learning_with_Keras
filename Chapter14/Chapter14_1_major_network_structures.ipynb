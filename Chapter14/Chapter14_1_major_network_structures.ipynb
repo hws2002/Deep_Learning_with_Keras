{
  "nbformat": 4,
  "nbformat_minor": 0,
  "metadata": {
    "colab": {
      "provenance": [],
      "authorship_tag": "ABX9TyNaGysgay9vdTU8Oaux95OA",
      "include_colab_link": true
    },
    "kernelspec": {
      "name": "python3",
      "display_name": "Python 3"
    },
    "language_info": {
      "name": "python"
    }
  },
  "cells": [
    {
      "cell_type": "markdown",
      "metadata": {
        "id": "view-in-github",
        "colab_type": "text"
      },
      "source": [
        "<a href=\"https://colab.research.google.com/github/hws2002/Deep_Learning_with_Keras/blob/main/Chapter14/Chapter14_1_major_network_structures.ipynb\" target=\"_parent\"><img src=\"https://colab.research.google.com/assets/colab-badge.svg\" alt=\"Open In Colab\"/></a>"
      ]
    },
    {
      "cell_type": "markdown",
      "source": [
        "# 밀집 연결 네트워크"
      ],
      "metadata": {
        "id": "_6JGNUuPyVmy"
      }
    },
    {
      "cell_type": "markdown",
      "source": [
        "## 이진 분류\n"
      ],
      "metadata": {
        "id": "ESK3ruJezHSe"
      }
    },
    {
      "cell_type": "code",
      "execution_count": null,
      "metadata": {
        "id": "-QUg3GeNyEQC"
      },
      "outputs": [],
      "source": [
        "from tensorflow import keras\n",
        "from tensorflow.keras import layers\n",
        "\n",
        "inputs = keras.Input(shape = (num_input_features,))\n",
        "x = layers.Dense(32, activation = \"relu\")(inputs)\n",
        "x = layers.Dense(32, activation = \"relu\")(x)\n",
        "outputs = layers.Dense(1, activation = \"sigmoid\")(x)\n",
        "model = keras.Model(inputs, outputs)\n",
        "model.compile(\n",
        "    optimizer = \"rmsprop\",\n",
        "    loss = \"binary_crossentropy\"\n",
        ")"
      ]
    },
    {
      "cell_type": "markdown",
      "source": [
        "## 단일 레이블 다중 분류"
      ],
      "metadata": {
        "id": "_Fb2kzgfzG3E"
      }
    },
    {
      "cell_type": "code",
      "source": [
        "inputs = keras.Input(shape = (num_input_features,))\n",
        "x = layers.Dense(32, activation = \"relu\")(inputs)\n",
        "x = layers.Dense(32, ativation = \"relu\")(x)\n",
        "outputs = layers.Dense(num_classes, activation = \"softmax\")(x)\n",
        "model = keras.Model(inputs, outputs)\n",
        "model.compile(\n",
        "    optimizer = \"rmsprop\",\n",
        "    loss = \"categorical_crossentropy\" # 원- 핫 인코딩\n",
        "    loss = \"spase_categorical_crossentropy\"  # 타깃이 정수 숫자\n",
        ")"
      ],
      "metadata": {
        "id": "Ccg9XPlyy3dt"
      },
      "execution_count": null,
      "outputs": []
    },
    {
      "cell_type": "markdown",
      "source": [
        "## 다중 레이블 다중 분류"
      ],
      "metadata": {
        "id": "vUoWtsCizqGq"
      }
    },
    {
      "cell_type": "code",
      "source": [
        "inputs = keras.Input(shape = (num_input_features,))\n",
        "x = layers.Dense(32, activation = \"relu\")(inputs)\n",
        "x = layers.Dense(32, ativation = \"relu\")(x)\n",
        "outputs = layers.Dense(num_classes, activation = \"sigmoid\")(x)\n",
        "model = keras.Model(inputs, outputs)\n",
        "model.compile(\n",
        "    optimizer = \"rmsprop\",\n",
        "    loss = \"binary_crossentropy\"  # 타깃이 멀티-핫 인코딩\n",
        ")"
      ],
      "metadata": {
        "id": "zuXkWMlizq5h"
      },
      "execution_count": null,
      "outputs": []
    },
    {
      "cell_type": "markdown",
      "source": [
        "## 회귀"
      ],
      "metadata": {
        "id": "ZNMZ0cEL57oi"
      }
    },
    {
      "cell_type": "code",
      "source": [
        "inputs = keras.Input(shape = (num_input_features,))\n",
        "x = layers.Dense(32, activation = \"relu\")(inputs)\n",
        "x = layers.Dense(32, ativation = \"relu\")(x)\n",
        "outputs = layers.Dense(num_values)(x)\n",
        "model = keras.Model(inputs, outputs)\n",
        "model.compile(\n",
        "    optimizer = \"rmsprop\",\n",
        "    loss = \"mse\"\n",
        ")"
      ],
      "metadata": {
        "id": "gCiiP4hh58WD"
      },
      "execution_count": null,
      "outputs": []
    },
    {
      "cell_type": "markdown",
      "source": [
        "# 컨브넷"
      ],
      "metadata": {
        "id": "XjPhYlld9z9l"
      }
    },
    {
      "cell_type": "code",
      "source": [
        "inputs = keras.Input(shape = (height, width, channels))\n",
        "x = layers.SeparableConv2D(32, 3, activation = \"relu\")(inputs)\n",
        "x = layers.SeparableConv2D(64, 3, activation = \"relu\")(x)\n",
        "x = layers.MaxPooling2D(2)(x)\n",
        "x = layers.SeparableConv2D(64, 3, activation = \"relu\")(x)\n",
        "x = layers.SeparableConv2D(1218, 3, activation = \"relu\")(x)\n",
        "x = layers.MaxPooling2D(2)(x)\n",
        "x = layers.SeparableConv2D(64, 3, activation = \"relu\")(x)\n",
        "x = layers.SeparableConv2D(128, 3, activation = \"relu\")(x)\n",
        "x = layers.GlobalAveragePooling2D()(x)\n",
        "x = layers.Dense(32, activation = \"relu\")(x)\n",
        "outputs = layers.Dense(num_classes, activation = \"softmax\")(x)\n",
        "model = keras.Model(inputs, outputs)\n",
        "model.compile(optimizer = \"rmsprop\", loss = \"categorical_crossentropy\")\n"
      ],
      "metadata": {
        "id": "9xLsalwY90nP"
      },
      "execution_count": null,
      "outputs": []
    },
    {
      "cell_type": "markdown",
      "source": [
        "## RNN"
      ],
      "metadata": {
        "id": "5Of668Gt-5GM"
      }
    },
    {
      "cell_type": "code",
      "source": [
        "inputs = keras.Input(shape = (num_timesteps, num_features))\n",
        "x = layers.LSTM(32)(inputs)\n",
        "outputs = layers.Dense(num_classes, activation = \"sigmoid\")(x)\n",
        "model = keras.Model(inputs, outputs)\n",
        "model.compile(optimizer = \"rmsprop\", loss = 'binary_crossentropy')\n"
      ],
      "metadata": {
        "id": "YLTK2obc_ahi"
      },
      "execution_count": null,
      "outputs": []
    },
    {
      "cell_type": "code",
      "source": [
        "inputs = keras.Input(shape = (num_timesteps, num_features))\n",
        "x = layers.LSTM(32, return_sequences = True)(inputs)\n",
        "x = layers.LSTM(32, return_sequences = True)(x)\n",
        "x = layers.LSTM(32)(x)\n",
        "outputs = layers.Dense(num_classes, activation = \"sigmoid\")(x)\n",
        "model = keras.Model(inputs, outputs)\n",
        "model.compile(optimizer = \"rmsprop\", loss = \"binary_crossentropy\")"
      ],
      "metadata": {
        "id": "4_fHsqi5_5Eb"
      },
      "execution_count": null,
      "outputs": []
    },
    {
      "cell_type": "markdown",
      "source": [
        "# 트랜스포머"
      ],
      "metadata": {
        "id": "7G9dAuhcAU2H"
      }
    },
    {
      "cell_type": "markdown",
      "source": [
        "소스 시퀀스 -> 타깃 시퀀스"
      ],
      "metadata": {
        "id": "Y96Vr0ERBm76"
      }
    },
    {
      "cell_type": "code",
      "source": [
        "encoder_inputs = keras.Input(shape = (sequence_length, ), dtype = \"int64\")\n",
        "x = PositionalEmbedding(\n",
        "    sequence_length, vocab_size, embed_dim)(encoder_inputs)\n",
        "encoder_outputs = TransformerEncoder(embed_dim, dense_dim, num_heads)(x)\n",
        "decoder_inputs = keras.Input(shape = (None,),dtype = \"int64\")\n",
        "x = PositionalEmbedding(\n",
        "    sequence_length, vocab_size, embed_dim)(decoder_inputs)\n",
        "x = TransformerDecoder(embed-dim, dense_dim, num_heads)(x, encoder_outputs)\n",
        "decoder_outputs = layers.Dense(vocab_size, activation = \"softmax\")(x)\n",
        "transformer = keras.Model([encoder_inputs, decoder_inputs], decoder_outputs)\n",
        "transformer.compile(\n",
        "    optimizer= \"rmsprop\",\n",
        "    loss = \"categorical_crossentropy\"\n",
        ")\n"
      ],
      "metadata": {
        "id": "KQAjRyiqAR0R"
      },
      "execution_count": null,
      "outputs": []
    },
    {
      "cell_type": "code",
      "source": [
        "encoder_inputs = keras.Input(shape = (sequence_length, ), dtype = \"int64\")\n",
        "x = PositionalEmbedding(\n",
        "    sequence_length, vocab_size, embed_dim)(encoder_inputs)\n",
        "x = TransformerEncoder(embed_dim, dense_dim, num_heads)(x)\n",
        "x = layers.GlobalMaxPooling1D()(x)\n",
        "outputs = layers.Dense(1, activation = \"sigmoid\")(x)\n",
        "model = keras.Model(encoder_inputs, outputs)\n",
        "model.compile(\n",
        "    optimizer= \"rmsprop\",\n",
        "    loss = \"binary_crossentropy\"\n",
        ")"
      ],
      "metadata": {
        "id": "FlCJWUIFCL84"
      },
      "execution_count": null,
      "outputs": []
    }
  ]
}