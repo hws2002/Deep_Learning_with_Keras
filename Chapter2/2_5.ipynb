{
  "nbformat": 4,
  "nbformat_minor": 0,
  "metadata": {
    "colab": {
      "provenance": [],
      "authorship_tag": "ABX9TyNPvVCLqcsH11mr7FvNUHe+",
      "include_colab_link": true
    },
    "kernelspec": {
      "name": "python3",
      "display_name": "Python 3"
    },
    "language_info": {
      "name": "python"
    }
  },
  "cells": [
    {
      "cell_type": "markdown",
      "metadata": {
        "id": "view-in-github",
        "colab_type": "text"
      },
      "source": [
        "<a href=\"https://colab.research.google.com/github/hws2002/Deep_Learning_with_Keras/blob/main/Chapter2/2_5.ipynb\" target=\"_parent\"><img src=\"https://colab.research.google.com/assets/colab-badge.svg\" alt=\"Open In Colab\"/></a>"
      ]
    },
    {
      "cell_type": "markdown",
      "source": [
        "# implement model from scratch"
      ],
      "metadata": {
        "id": "TGgN3FP4RJb5"
      }
    },
    {
      "cell_type": "markdown",
      "source": [
        "단순한 Dense 클래스"
      ],
      "metadata": {
        "id": "ruZuXWoFNW-e"
      }
    },
    {
      "cell_type": "code",
      "execution_count": 11,
      "metadata": {
        "id": "_eei6B3c2JYU"
      },
      "outputs": [],
      "source": [
        "import tensorflow as tf\n",
        "\n",
        "class NaiveDense:\n",
        "  def __init__(self, input_size, output_size, activation):\n",
        "    self.activation = activation\n",
        "\n",
        "    w_shape = (input_size, output_size)\n",
        "    w_initial_value = tf.random.uniform(w_shape, minval = 0, maxval = 1e-1)\n",
        "    self.W = tf.Variable(w_initial_value)\n",
        "\n",
        "    b_shape = (output_size,)\n",
        "    b_initial_value = tf.zeros(b_shape)\n",
        "    self.b = tf.Variable(b_initial_value)\n",
        "\n",
        "  def __call__(self, inputs):\n",
        "    return self.activation(tf.matmul(inputs, self.W) + self.b)\n",
        "\n",
        "  @property\n",
        "  def weights(self):\n",
        "    return [self.W, self.b]"
      ]
    },
    {
      "cell_type": "markdown",
      "source": [
        "단순한 Sequential 클래스"
      ],
      "metadata": {
        "id": "Fjh8X-H1NYtA"
      }
    },
    {
      "cell_type": "code",
      "source": [
        "class NaiveSequential:\n",
        "  def __init__(self, layers):\n",
        "    self.layers = layers\n",
        "\n",
        "  def __call__(self, inputs):\n",
        "    x = inputs\n",
        "    for layer in self. layers:\n",
        "      x = layer(x)\n",
        "    return x\n",
        "\n",
        "  @property\n",
        "  def weights(self):\n",
        "    weights = []\n",
        "    for layer in self.layers:\n",
        "      weights += layer.weights\n",
        "    return weights\n",
        ""
      ],
      "metadata": {
        "id": "flHpD6S3Gks2"
      },
      "execution_count": 12,
      "outputs": []
    },
    {
      "cell_type": "code",
      "source": [
        "model = NaiveSequential([\n",
        "    NaiveDense(input_size = 28*28, output_size = 512, activation = tf.nn.relu),\n",
        "    NaiveDense(input_size = 512, output_size = 10, activation = tf.nn.softmax)\n",
        "])\n",
        "\n",
        "assert len(model.weights) == 4"
      ],
      "metadata": {
        "id": "gFjax6SCNjpr"
      },
      "execution_count": 13,
      "outputs": []
    },
    {
      "cell_type": "markdown",
      "source": [
        "배치 제너레이터\n",
        "MNIST 데이터를 미니 배치로 순회하기 위해, 배치 제너레이터가 필요"
      ],
      "metadata": {
        "id": "fbDEt2bJOHc1"
      }
    },
    {
      "cell_type": "code",
      "source": [
        "import math\n",
        "\n",
        "class BatchGenerator:\n",
        "  def __init__(self, images, labels, batch_size = 128):\n",
        "    assert len(images) == len(labels)\n",
        "    self.index = 0\n",
        "    self.images = images\n",
        "    self.labels = labels\n",
        "    self.batch_size = batch_size\n",
        "    self.num_batches = math.ceil(len(images) / batch_size)\n",
        "\n",
        "  def next(self):\n",
        "    images = self.images[self.index : self.index + self.batch_size]\n",
        "    labels = self.labels[self.index : self.index + self.batch_size]\n",
        "    self.index += self.batch_size\n",
        "    return images, labels"
      ],
      "metadata": {
        "id": "T5YIJbrWN3_r"
      },
      "execution_count": 60,
      "outputs": []
    },
    {
      "cell_type": "code",
      "source": [
        "# 이렇게 구현될때도 있지 않나..?\n",
        "import math\n",
        "\n",
        "class BatchGenerator:\n",
        "  def __init__(self, images, labels, batch_size = 128):\n",
        "    assert len(images) == len(labels)\n",
        "    self.index = 0\n",
        "    self.images = images\n",
        "    self.labels = labels\n",
        "    self.batch_size = batch_size\n",
        "    self.num_batches = math.floor(len(images) / batch_size)\n",
        "\n",
        "  def next(self):\n",
        "    images = self.images[self.index : self.index + self.batch_size]\n",
        "    labels = self.labels[self.index : self.index + self.batch_size]\n",
        "    if self.index // self.batch_size == self.num_batches - 1:\n",
        "      images = self.images[self.index:]\n",
        "      labels = self.images[self.index:]\n",
        "    self.index += self.batch_size\n",
        "    return images, labels"
      ],
      "metadata": {
        "id": "9--DmiwbQouU"
      },
      "execution_count": 58,
      "outputs": []
    },
    {
      "cell_type": "code",
      "source": [
        "import numpy as np\n",
        "x = tf.ones((260, 10))\n",
        "y = tf.zeros((260,))\n",
        "print(len(x))\n",
        "print(len(y))"
      ],
      "metadata": {
        "colab": {
          "base_uri": "https://localhost:8080/"
        },
        "id": "-2jxX9VjN9Iq",
        "outputId": "3f7e60f5-b9c3-44be-d3e0-503c4ffaccd8"
      },
      "execution_count": 61,
      "outputs": [
        {
          "output_type": "stream",
          "name": "stdout",
          "text": [
            "260\n",
            "260\n"
          ]
        }
      ]
    },
    {
      "cell_type": "code",
      "source": [
        "bg = BatchGenerator(x,y)\n",
        "for _ in range(bg.num_batches):\n",
        "  images, labels = bg.next()\n",
        "  print(len(images), len(labels))"
      ],
      "metadata": {
        "colab": {
          "base_uri": "https://localhost:8080/"
        },
        "id": "lq4WdWxQOn-U",
        "outputId": "5e17614b-d771-4739-f291-1fb5af591f67"
      },
      "execution_count": 63,
      "outputs": [
        {
          "output_type": "stream",
          "name": "stdout",
          "text": [
            "128 128\n",
            "128 128\n",
            "4 4\n"
          ]
        }
      ]
    },
    {
      "cell_type": "markdown",
      "source": [
        "# 훈련 스텝 실행하기"
      ],
      "metadata": {
        "id": "2AftAKkaPN0i"
      }
    },
    {
      "cell_type": "code",
      "source": [
        "learning_rate = 1e-3\n",
        "\n",
        "def update_weights(gradients, weights):\n",
        "  for g,w in zip(gradients, weights):\n",
        "    w.assign_sub(g*learning_rate) # 텐서플로 변수의 assign_sub 메서드는 -=와 동일함\n",
        "\n",
        "def one_training_step(model, images_batch, labels_batch):\n",
        "  with tf.GradientTape() as tape:\n",
        "    predictions = model(images_batch)\n",
        "    per_sample_losses = tf.keras.losses.sparse_categorical_crossentropy(\n",
        "        labels_batch, predictions)\n",
        "    average_loss = tf.reduce_mean(per_sample_losses) # 정방향 패스 실행\n",
        "  gradients = tape.gradient(average_loss, model.weights) # 가중치에 대한 손실의 그레디언트 계산,\n",
        "                                                         # gradients 리스트의 각 항목은 model.weights 리스트에 있는 가중치에 매칭됨\n",
        "\n",
        "  update_weights(gradients, model.weights) # 그레디언트 사용하여 가중치 업데이트\n",
        "  return average_loss"
      ],
      "metadata": {
        "id": "UYDHONf7Oy1T"
      },
      "execution_count": 69,
      "outputs": []
    },
    {
      "cell_type": "code",
      "source": [
        "from tensorflow.keras import optimizers\n",
        "\n",
        "optimizer = optimizers.SGD(learning_rate=1e-3)\n",
        "\n",
        "def update_weights(gradients, weights):\n",
        "  optimizer.apply_gradients(zip(gradients, weights))"
      ],
      "metadata": {
        "id": "NWSgYrTNSmdp"
      },
      "execution_count": 70,
      "outputs": []
    },
    {
      "cell_type": "markdown",
      "source": [
        "# 전체 훈련 루프"
      ],
      "metadata": {
        "id": "tur1-k2LTQjW"
      }
    },
    {
      "cell_type": "code",
      "source": [
        "def fit(model, images, labels, epochs, batch_size = 128):\n",
        "  for epoch_counter in range(epochs):\n",
        "    print(f\"에포크 {epoch_counter}\")\n",
        "    batch_generator = BatchGenerator(images, labels)\n",
        "    for batch_counter in range(batch_generator.num_batches):\n",
        "      images_batch, labels_batch = batch_generator.next()\n",
        "      loss = one_training_step(model, images_batch, labels_batch)\n",
        "      if batch_counter % 100 == 0:\n",
        "        print(f\"{batch_counter}번째 배치 손실 : {loss:.2f}\")"
      ],
      "metadata": {
        "id": "nSqit05dTBYS"
      },
      "execution_count": 71,
      "outputs": []
    },
    {
      "cell_type": "code",
      "source": [
        "from tensorflow.keras.datasets import mnist\n",
        "\n",
        "(train_images, train_labels), (test_images, test_labels) = mnist.load_data()\n",
        "\n",
        "train_images = train_images.reshape((60000, 28*28))\n",
        "train_images = train_images.astype(\"float32\") / 255\n",
        "test_images = test_images.reshape((10000, 28*28))\n",
        "test_images = test_images.astype(\"float32\") / 255\n",
        "\n",
        "fit(model, train_images, train_labels, epochs = 10, batch_size = 128)"
      ],
      "metadata": {
        "colab": {
          "base_uri": "https://localhost:8080/"
        },
        "id": "GYc8e3MdT5nm",
        "outputId": "f27e0907-55eb-4123-f4b1-2efaf3e1631e"
      },
      "execution_count": 72,
      "outputs": [
        {
          "output_type": "stream",
          "name": "stdout",
          "text": [
            "에포크 0\n",
            "0번째 배치 손실 : 5.50\n",
            "100번째 배치 손실 : 2.26\n",
            "200번째 배치 손실 : 2.21\n",
            "300번째 배치 손실 : 2.09\n",
            "400번째 배치 손실 : 2.20\n",
            "에포크 1\n",
            "0번째 배치 손실 : 1.90\n",
            "100번째 배치 손실 : 1.90\n",
            "200번째 배치 손실 : 1.83\n",
            "300번째 배치 손실 : 1.71\n",
            "400번째 배치 손실 : 1.81\n",
            "에포크 2\n",
            "0번째 배치 손실 : 1.58\n",
            "100번째 배치 손실 : 1.60\n",
            "200번째 배치 손실 : 1.51\n",
            "300번째 배치 손실 : 1.43\n",
            "400번째 배치 손실 : 1.50\n",
            "에포크 3\n",
            "0번째 배치 손실 : 1.33\n",
            "100번째 배치 손실 : 1.36\n",
            "200번째 배치 손실 : 1.24\n",
            "300번째 배치 손실 : 1.21\n",
            "400번째 배치 손실 : 1.27\n",
            "에포크 4\n",
            "0번째 배치 손실 : 1.13\n",
            "100번째 배치 손실 : 1.17\n",
            "200번째 배치 손실 : 1.05\n",
            "300번째 배치 손실 : 1.05\n",
            "400번째 배치 손실 : 1.11\n",
            "에포크 5\n",
            "0번째 배치 손실 : 0.99\n",
            "100번째 배치 손실 : 1.03\n",
            "200번째 배치 손실 : 0.91\n",
            "300번째 배치 손실 : 0.93\n",
            "400번째 배치 손실 : 0.99\n",
            "에포크 6\n",
            "0번째 배치 손실 : 0.88\n",
            "100번째 배치 손실 : 0.93\n",
            "200번째 배치 손실 : 0.80\n",
            "300번째 배치 손실 : 0.84\n",
            "400번째 배치 손실 : 0.90\n",
            "에포크 7\n",
            "0번째 배치 손실 : 0.80\n",
            "100번째 배치 손실 : 0.84\n",
            "200번째 배치 손실 : 0.72\n",
            "300번째 배치 손실 : 0.77\n",
            "400번째 배치 손실 : 0.83\n",
            "에포크 8\n",
            "0번째 배치 손실 : 0.74\n",
            "100번째 배치 손실 : 0.77\n",
            "200번째 배치 손실 : 0.66\n",
            "300번째 배치 손실 : 0.71\n",
            "400번째 배치 손실 : 0.78\n",
            "에포크 9\n",
            "0번째 배치 손실 : 0.69\n",
            "100번째 배치 손실 : 0.72\n",
            "200번째 배치 손실 : 0.61\n",
            "300번째 배치 손실 : 0.67\n",
            "400번째 배치 손실 : 0.74\n"
          ]
        }
      ]
    },
    {
      "cell_type": "markdown",
      "source": [
        "# 모델 평가하기"
      ],
      "metadata": {
        "id": "f4-Wzmq4UYdO"
      }
    },
    {
      "cell_type": "code",
      "source": [
        "predictions = model(test_images).numpy()\n",
        "predicted_labels = np.argmax(predictions, axis = 1)\n",
        "matches = predicted_labels == test_labels\n",
        "\n",
        "print(f\"정확도 : {matches.mean():.2f}\")"
      ],
      "metadata": {
        "colab": {
          "base_uri": "https://localhost:8080/"
        },
        "id": "yKtfqHYAUN_u",
        "outputId": "2dfdbe56-6d1a-4e47-d291-fff24e038c44"
      },
      "execution_count": 75,
      "outputs": [
        {
          "output_type": "stream",
          "name": "stdout",
          "text": [
            "정확도 : 0.81\n"
          ]
        }
      ]
    }
  ]
}