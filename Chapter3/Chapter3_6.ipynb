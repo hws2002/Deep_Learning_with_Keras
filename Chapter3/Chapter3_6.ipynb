{
  "nbformat": 4,
  "nbformat_minor": 0,
  "metadata": {
    "colab": {
      "provenance": [],
      "authorship_tag": "ABX9TyNoJaVX/moOHP5LPPwVASFg",
      "include_colab_link": true
    },
    "kernelspec": {
      "name": "python3",
      "display_name": "Python 3"
    },
    "language_info": {
      "name": "python"
    }
  },
  "cells": [
    {
      "cell_type": "markdown",
      "metadata": {
        "id": "view-in-github",
        "colab_type": "text"
      },
      "source": [
        "<a href=\"https://colab.research.google.com/github/hws2002/Deep_Learning_with_Keras/blob/main/Chapter3/Chapter3_6.ipynb\" target=\"_parent\"><img src=\"https://colab.research.google.com/assets/colab-badge.svg\" alt=\"Open In Colab\"/></a>"
      ]
    },
    {
      "cell_type": "code",
      "source": [
        "num_samples_per_class = 1000\n",
        "negative_samples = np.random.multivariate_normal(\n",
        "    mean = [0,3],\n",
        "    cov = [[1, 0.5],[0.5, 1]],\n",
        "    size = num_samples_per_class)\n",
        "\n",
        "positive_samples = np.random.multivariate_normal(\n",
        "    mean = [3,0],\n",
        "    cov = [[1, 0.5],[0.5, 1]],\n",
        "    size = num_samples_per_class)\n",
        "\n",
        "inputs = np.vstack((negative_samples, positive_samples)).astype(np.float32)\n",
        "targets = np.vstack( (np.ones((num_samples_per_class,1), dtype = 'float32'),\n",
        "                       np.zeros((num_samples_per_class,1), dtype = 'float32'))\n",
        ")"
      ],
      "metadata": {
        "id": "WndisjA5Stuu"
      },
      "execution_count": null,
      "outputs": []
    },
    {
      "cell_type": "code",
      "execution_count": null,
      "metadata": {
        "id": "gN_l6h4fhriM"
      },
      "outputs": [],
      "source": [
        "import tensorflow as tf"
      ]
    },
    {
      "cell_type": "code",
      "source": [
        "from tensorflow import keras\n",
        "\n",
        "class SimpleDense(keras.layers.Layer): # 모든 케라스 층은 Layer 클래스를 상속함\n",
        "  def __init__(self, units, activation = None):\n",
        "    super().__init__()\n",
        "    self.units = units\n",
        "    self.activation = activation\n",
        "\n",
        "  def build(self, input_shape): # build() 메서드에서 가중치를 생성함.\n",
        "    input_dim = input_shape[-1]\n",
        "    self.W = self.add_weight(shape = (input_dim, self.units),\n",
        "                             initializer = \"random_normal\")\n",
        "    # add_weight()는 가중치를 간편하게 만들 수 있는 메서드임\n",
        "    # self.W = tf.Variable(tf.random.uniform(w_shape)) 와 같이 독립적으로 변수를 생성하고\n",
        "    # 층의 속성으로 할당할 수도 있음.\n",
        "\n",
        "    self.b = self.add_weight(shape=(self.units,),\n",
        "                             initializer='zeros')\n",
        "  def call(self, inputs): # call() 메서드에서 정방향 패스 계산을 정의함.\n",
        "    y = tf.matmul(inputs, self.W) + self.b\n",
        "    if self.activation is not None:\n",
        "      y = self.activation(y)\n",
        "    return y"
      ],
      "metadata": {
        "id": "K2an_DWZhysU"
      },
      "execution_count": null,
      "outputs": []
    },
    {
      "cell_type": "markdown",
      "source": [
        "위 클래스의 인스턴스를 생성하면 텐서플로 텐서를 입력으로 받는 함수처럼 사용할 수 있음."
      ],
      "metadata": {
        "id": "mvqKlaLFklrR"
      }
    },
    {
      "cell_type": "code",
      "source": [
        "my_dense = SimpleDense(units = 32, activation = tf.nn.relu)\n",
        "input_tensor = tf.ones(shape = (2,784))"
      ],
      "metadata": {
        "id": "fjgYXWzSkFTp"
      },
      "execution_count": null,
      "outputs": []
    },
    {
      "cell_type": "code",
      "source": [
        "output_tensor = my_dense(input_tensor)\n",
        "print(output_tensor.shape)"
      ],
      "metadata": {
        "colab": {
          "base_uri": "https://localhost:8080/"
        },
        "id": "F2BV8y7dkrl1",
        "outputId": "7c0f3b90-dcab-42d5-fadc-c9fbd75c1c90"
      },
      "execution_count": null,
      "outputs": [
        {
          "output_type": "stream",
          "name": "stdout",
          "text": [
            "(2, 32)\n"
          ]
        }
      ]
    },
    {
      "cell_type": "markdown",
      "source": [
        "## 자동 크기 추론 : 동적으로 층 만들기"
      ],
      "metadata": {
        "id": "6-YUXve0lOd_"
      }
    },
    {
      "cell_type": "code",
      "source": [
        "model = keras.Sequential(([\n",
        "    SimpleDense(32, activation = \"relu\"),\n",
        "    SimpleDense(64, activation = \"relu\"),\n",
        "    SimpleDense(32, activation = \"relu\"),\n",
        "    SimpleDense(10, activation = \"softmax\")\n",
        "]))"
      ],
      "metadata": {
        "id": "J_pg_Btnmw3g"
      },
      "execution_count": null,
      "outputs": []
    },
    {
      "cell_type": "markdown",
      "source": [
        "# 컴파일 단계 : 학습 과정 설정"
      ],
      "metadata": {
        "id": "YAwx523jsGh0"
      }
    },
    {
      "cell_type": "code",
      "source": [
        "model = keras.Sequential([ # 선형 분류기를 지정함\n",
        "\t\t\t\t\t\t\t\t\t\t\t\t\tkeras.layers.Dense(1)\n",
        "])\n",
        "\n",
        "model.compile(optimizer = \"rmsprop\", # 옵티마이저이름을 지정함\n",
        "              loss = \"mean_squared_error\", # 손실 이름을 평균 제곱 오차로 지정함\n",
        "              metrics = ['accuracy']) # 측정 자료를 리스트로 지정함."
      ],
      "metadata": {
        "id": "yYKWhdNpsJZ8"
      },
      "execution_count": null,
      "outputs": []
    },
    {
      "cell_type": "code",
      "source": [
        "model.compile(optimizer = keras.optimizers.RMSprop(),\n",
        "              loss = keras.losses.MeanSquaredError(),\n",
        "              metrics = [keras.metrics.BinaryAccuracy()])"
      ],
      "metadata": {
        "id": "yGnSpPj3sV6l"
      },
      "execution_count": null,
      "outputs": []
    },
    {
      "cell_type": "code",
      "source": [
        "model.compile(optimizer= keras.optimizers.RMSprop(learning_rate = 1e-4),\n",
        "              loss = my_custom_loss,\n",
        "              metrics = [my_custom_metric_1,my_custom_metric_2]\n",
        ")"
      ],
      "metadata": {
        "id": "luAt74hgs930"
      },
      "execution_count": null,
      "outputs": []
    },
    {
      "cell_type": "code",
      "source": [
        "history = model.fit(\n",
        "    inputs,\n",
        "    targets,\n",
        "    epochs = 5,\n",
        "    batch_size = 128\n",
        ")"
      ],
      "metadata": {
        "id": "2MF_UwI9tZ5v"
      },
      "execution_count": null,
      "outputs": []
    },
    {
      "cell_type": "markdown",
      "source": [
        "# Validation data 만들기"
      ],
      "metadata": {
        "id": "8wdy6T_gwfEZ"
      }
    },
    {
      "cell_type": "code",
      "source": [
        "import numpy as np\n",
        "model = keras.Sequential([\n",
        "    keras.layers.Dense(1)\n",
        "])\n",
        "model.compile(optimizer = keras.optimizers.RMSprop(learning_rate = 0.1),\n",
        "              loss = keras.losses.MeanSquaredError(),\n",
        "              metrics = [keras.metrics.BinaryAccuracy()])\n",
        "\n",
        "indices_permutation = np.random.permutation(len(inputs))\n",
        "shuffled_inputs = inputs[indices_permutation]\n",
        "shuffled_targets = targets[indices_permutation]"
      ],
      "metadata": {
        "id": "JDoxq7QuvXxa"
      },
      "execution_count": null,
      "outputs": []
    },
    {
      "cell_type": "code",
      "source": [
        "num_validation_samples = int(0.3 * len(inputs))\n",
        "val_inputs = shuffled_inputs[:num_validation_samples]\n",
        "val_targets = shuffled_targets[:num_validation_samples]\n",
        "training_inputs = shuffled_inputs[num_validation_samples:]\n",
        "training_targets = shuffled_targets[num_validation_samples:]"
      ],
      "metadata": {
        "id": "xC03wSIqSkBO"
      },
      "execution_count": null,
      "outputs": []
    },
    {
      "cell_type": "code",
      "source": [
        "model.fit(\n",
        "    training_inputs,\n",
        "    training_targets,\n",
        "    epochs = 5,\n",
        "    batch_size = 16,\n",
        "    validation_data = (val_inputs, val_targets) # 검증 데이터는 검증 손실과 측정 지표를 모니터링하는 데만 사용됨.\n",
        ")"
      ],
      "metadata": {
        "colab": {
          "base_uri": "https://localhost:8080/"
        },
        "id": "iP48CkOWTUv2",
        "outputId": "213c1a32-990d-459f-8954-0e607f9ab698"
      },
      "execution_count": null,
      "outputs": [
        {
          "output_type": "stream",
          "name": "stdout",
          "text": [
            "Epoch 1/5\n",
            "\u001b[1m88/88\u001b[0m \u001b[32m━━━━━━━━━━━━━━━━━━━━\u001b[0m\u001b[37m\u001b[0m \u001b[1m2s\u001b[0m 11ms/step - binary_accuracy: 0.7602 - loss: 0.6925 - val_binary_accuracy: 0.9933 - val_loss: 0.0406\n",
            "Epoch 2/5\n",
            "\u001b[1m88/88\u001b[0m \u001b[32m━━━━━━━━━━━━━━━━━━━━\u001b[0m\u001b[37m\u001b[0m \u001b[1m1s\u001b[0m 3ms/step - binary_accuracy: 0.9457 - loss: 0.0804 - val_binary_accuracy: 0.9967 - val_loss: 0.0364\n",
            "Epoch 3/5\n",
            "\u001b[1m88/88\u001b[0m \u001b[32m━━━━━━━━━━━━━━━━━━━━\u001b[0m\u001b[37m\u001b[0m \u001b[1m1s\u001b[0m 2ms/step - binary_accuracy: 0.9635 - loss: 0.0694 - val_binary_accuracy: 0.9833 - val_loss: 0.0563\n",
            "Epoch 4/5\n",
            "\u001b[1m88/88\u001b[0m \u001b[32m━━━━━━━━━━━━━━━━━━━━\u001b[0m\u001b[37m\u001b[0m \u001b[1m0s\u001b[0m 2ms/step - binary_accuracy: 0.9642 - loss: 0.0705 - val_binary_accuracy: 0.8867 - val_loss: 0.1689\n",
            "Epoch 5/5\n",
            "\u001b[1m88/88\u001b[0m \u001b[32m━━━━━━━━━━━━━━━━━━━━\u001b[0m\u001b[37m\u001b[0m \u001b[1m0s\u001b[0m 2ms/step - binary_accuracy: 0.9467 - loss: 0.0858 - val_binary_accuracy: 0.8100 - val_loss: 0.2265\n"
          ]
        },
        {
          "output_type": "execute_result",
          "data": {
            "text/plain": [
              "<keras.src.callbacks.history.History at 0x7e6a16951420>"
            ]
          },
          "metadata": {},
          "execution_count": 26
        }
      ]
    },
    {
      "cell_type": "code",
      "source": [
        "# 훈련이 끝난 후 검증 손실과 측정 지표를 계산하고 싶다면 evaluate() 메서드를 사용할 수 있음\n",
        "loss_and_metrics = model.evaluate(val_inputs, val_targets, batch_size = 128)\n",
        "loss_and_metrics"
      ],
      "metadata": {
        "colab": {
          "base_uri": "https://localhost:8080/"
        },
        "id": "dFhwHmEcTQmA",
        "outputId": "913e674e-3096-45b2-dbce-168856cfa017"
      },
      "execution_count": null,
      "outputs": [
        {
          "output_type": "stream",
          "name": "stdout",
          "text": [
            "\u001b[1m5/5\u001b[0m \u001b[32m━━━━━━━━━━━━━━━━━━━━\u001b[0m\u001b[37m\u001b[0m \u001b[1m0s\u001b[0m 2ms/step - binary_accuracy: 0.8125 - loss: 0.2256 \n"
          ]
        },
        {
          "output_type": "execute_result",
          "data": {
            "text/plain": [
              "[0.2265048772096634, 0.8100000023841858]"
            ]
          },
          "metadata": {},
          "execution_count": 30
        }
      ]
    },
    {
      "cell_type": "markdown",
      "source": [
        "# 추론 : 훈련한 모델 사용하기"
      ],
      "metadata": {
        "id": "ZUcRIwQSWnnv"
      }
    },
    {
      "cell_type": "code",
      "source": [
        "predictions = model(new_inputs)"
      ],
      "metadata": {
        "id": "y0PX47-mU8Vm"
      },
      "execution_count": null,
      "outputs": []
    },
    {
      "cell_type": "code",
      "source": [
        "val_inputs"
      ],
      "metadata": {
        "colab": {
          "base_uri": "https://localhost:8080/"
        },
        "id": "5xZgY-SYXnPI",
        "outputId": "a15ad04a-817b-4b0c-8c1c-10b749597bd5"
      },
      "execution_count": null,
      "outputs": [
        {
          "output_type": "execute_result",
          "data": {
            "text/plain": [
              "(600, 2)"
            ]
          },
          "metadata": {},
          "execution_count": 34
        }
      ]
    },
    {
      "cell_type": "code",
      "source": [
        "predictions = model.predict(val_inputs, batch_size = 128)\n",
        "predictions[:20]"
      ],
      "metadata": {
        "colab": {
          "base_uri": "https://localhost:8080/"
        },
        "id": "MMs0eyn5W_wy",
        "outputId": "77be9fe8-a9f8-46b3-e316-f15744741f76"
      },
      "execution_count": null,
      "outputs": [
        {
          "output_type": "stream",
          "name": "stdout",
          "text": [
            "\u001b[1m5/5\u001b[0m \u001b[32m━━━━━━━━━━━━━━━━━━━━\u001b[0m\u001b[37m\u001b[0m \u001b[1m0s\u001b[0m 3ms/step \n"
          ]
        },
        {
          "output_type": "execute_result",
          "data": {
            "text/plain": [
              "array([[ 1.1879563 ],\n",
              "       [ 0.16433913],\n",
              "       [ 1.5033181 ],\n",
              "       [ 0.4457913 ],\n",
              "       [ 0.5249623 ],\n",
              "       [ 0.50062543],\n",
              "       [ 0.26026815],\n",
              "       [ 1.6183867 ],\n",
              "       [ 0.3032552 ],\n",
              "       [ 0.5307097 ],\n",
              "       [ 0.53480417],\n",
              "       [ 0.43891937],\n",
              "       [ 1.665787  ],\n",
              "       [ 0.5955257 ],\n",
              "       [ 0.21836883],\n",
              "       [ 0.398727  ],\n",
              "       [ 0.16995838],\n",
              "       [-0.03166747],\n",
              "       [ 0.28241727],\n",
              "       [ 0.82580006]], dtype=float32)"
            ]
          },
          "metadata": {},
          "execution_count": 37
        }
      ]
    },
    {
      "cell_type": "code",
      "source": [],
      "metadata": {
        "id": "IsKGvJvyYIm2"
      },
      "execution_count": null,
      "outputs": []
    }
  ]
}