{
  "nbformat": 4,
  "nbformat_minor": 0,
  "metadata": {
    "colab": {
      "provenance": [],
      "gpuType": "V28",
      "authorship_tag": "ABX9TyOPOP0uIBxM/cf+i00riU5E",
      "include_colab_link": true
    },
    "kernelspec": {
      "name": "python3",
      "display_name": "Python 3"
    },
    "language_info": {
      "name": "python"
    },
    "accelerator": "TPU"
  },
  "cells": [
    {
      "cell_type": "markdown",
      "metadata": {
        "id": "view-in-github",
        "colab_type": "text"
      },
      "source": [
        "<a href=\"https://colab.research.google.com/github/hws2002/Deep_Learning_with_Keras/blob/main/Chapter4/Chapter4_1.ipynb\" target=\"_parent\"><img src=\"https://colab.research.google.com/assets/colab-badge.svg\" alt=\"Open In Colab\"/></a>"
      ]
    },
    {
      "cell_type": "markdown",
      "source": [
        "# 데이터셋 로드"
      ],
      "metadata": {
        "id": "FKwFyVXbimzt"
      }
    },
    {
      "cell_type": "code",
      "execution_count": 1,
      "metadata": {
        "id": "C5Qjilt7YmuG"
      },
      "outputs": [],
      "source": [
        "from tensorflow.keras.datasets import imdb"
      ]
    },
    {
      "cell_type": "code",
      "source": [
        "(train_data, train_labels) , (test_data, test_labels) = imdb.load_data(\n",
        "    num_words = 10000 # 훈련 데이터에서 가장 자주 나타나는 단어 1만 개만 사용하겠다는 의미\n",
        ")"
      ],
      "metadata": {
        "id": "rATqk-KEZtsf"
      },
      "execution_count": 20,
      "outputs": []
    },
    {
      "cell_type": "code",
      "source": [
        "#이 리뷰 데이터 하나를 원래 영어 단어로 바꾸어 보자\n",
        "from tensorflow import keras\n",
        "# Use the default parameters to keras.datasets.imdb.load_data\n",
        "start_char = 1\n",
        "oov_char = 2\n",
        "index_from = 3\n",
        "\n",
        "# Retrieve the word index file mapping words to indices\n",
        "word_index = keras.datasets.imdb.get_word_index()\n",
        "# Reverse the word index to obtain a dict mapping indices to words\n",
        "# And add `index_from` to indices to sync with `x_train`\n",
        "inverted_word_index = dict(\n",
        "    (i + index_from, word) for (word, i) in word_index.items()\n",
        ")\n",
        "# Update `inverted_word_index` to include `start_char` and `oov_char`\n",
        "inverted_word_index[start_char] = \"[START]\"\n",
        "inverted_word_index[oov_char] = \"[OOV]\"\n",
        "# Decode the first sequence in the dataset\n",
        "decoded_sequence = \" \".join(inverted_word_index[i] for i in train_data[0])"
      ],
      "metadata": {
        "id": "k3PSTptXdO37"
      },
      "execution_count": 6,
      "outputs": []
    },
    {
      "cell_type": "code",
      "source": [
        "decoded_sequence"
      ],
      "metadata": {
        "colab": {
          "base_uri": "https://localhost:8080/",
          "height": 125
        },
        "id": "EQ55G8paeWt5",
        "outputId": "e4decdaa-cb15-45f1-e5ce-3d178bfb72e7"
      },
      "execution_count": 7,
      "outputs": [
        {
          "output_type": "execute_result",
          "data": {
            "text/plain": [
              "\"[START] this film was just brilliant casting location scenery story direction everyone's really suited the part they played and you could just imagine being there robert [OOV] is an amazing actor and now the same being director [OOV] father came from the same scottish island as myself so i loved the fact there was a real connection with this film the witty remarks throughout the film were great it was just brilliant so much that i bought the film as soon as it was released for [OOV] and would recommend it to everyone to watch and the fly fishing was amazing really cried at the end it was so sad and you know what they say if you cry at a film it must have been good and this definitely was also [OOV] to the two little boy's that played the [OOV] of norman and paul they were just brilliant children are often left out of the [OOV] list i think because the stars that play them all grown up are such a big profile for the whole film but these children are amazing and should be praised for what they have done don't you think the whole story was so lovely because it was true and was someone's life after all that was shared with us all\""
            ],
            "application/vnd.google.colaboratory.intrinsic+json": {
              "type": "string"
            }
          },
          "metadata": {},
          "execution_count": 7
        }
      ]
    },
    {
      "cell_type": "markdown",
      "source": [
        "# 데이터 준비"
      ],
      "metadata": {
        "id": "r3Db3iZDfw6g"
      }
    },
    {
      "cell_type": "markdown",
      "source": [
        "## 멀티 핫 인코딩"
      ],
      "metadata": {
        "id": "_1jPqpDDghA5"
      }
    },
    {
      "cell_type": "code",
      "source": [
        "import numpy as np\n",
        "\n",
        "def vectorize_sequences(sequences, dimension = 100000):\n",
        "  results = np.zeros( (len(sequences), dimension) )\n",
        "  for i, sequence in enumerate(sequences):\n",
        "    for j in sequence:\n",
        "      results[i][j] = 1\n",
        "  return results\n",
        "x_train = vectorize_sequences(train_data)\n",
        "x_test = vectorize_sequences(test_data)"
      ],
      "metadata": {
        "id": "4p2Jeczweg_j"
      },
      "execution_count": 21,
      "outputs": []
    },
    {
      "cell_type": "code",
      "source": [
        "y_train = np.asarray(train_labels).astype(\"float32\")\n",
        "y_test = np.asarray(test_labels).astype(\"float32\")"
      ],
      "metadata": {
        "id": "gcfycIvJhEZs"
      },
      "execution_count": 37,
      "outputs": []
    },
    {
      "cell_type": "markdown",
      "source": [
        "# 신경망 모델 만들기"
      ],
      "metadata": {
        "id": "iF2YRMKYikYT"
      }
    },
    {
      "cell_type": "code",
      "source": [
        "from tensorflow import keras\n",
        "from tensorflow.keras import layers\n",
        "\n",
        "model = keras.Sequential([\n",
        "    layers.Dense(16, activation = \"relu\"),\n",
        "    layers.Dense(16, activation = \"relu\"),\n",
        "    layers.Dense(1, activation = \"sigmoid\"),\n",
        "])"
      ],
      "metadata": {
        "id": "yuW6UaOYiJMC"
      },
      "execution_count": 5,
      "outputs": []
    },
    {
      "cell_type": "code",
      "source": [
        "model.compile(\n",
        "    optimizer = keras.optimizers.RMSprop(),\n",
        "    loss = \"binary_crossentropy\",\n",
        "    metrics = [keras.metrics.accuracy()]\n",
        ")"
      ],
      "metadata": {
        "colab": {
          "base_uri": "https://localhost:8080/",
          "height": 198
        },
        "id": "mv_gGktIkEBI",
        "outputId": "2f9f720f-9559-4983-9f77-ff8aaa7e5815"
      },
      "execution_count": 35,
      "outputs": [
        {
          "output_type": "error",
          "ename": "AttributeError",
          "evalue": "module 'keras.api._v2.keras.metrics' has no attribute 'accuracy'",
          "traceback": [
            "\u001b[0;31m---------------------------------------------------------------------------\u001b[0m",
            "\u001b[0;31mAttributeError\u001b[0m                            Traceback (most recent call last)",
            "\u001b[0;32m<ipython-input-35-fd92201f747e>\u001b[0m in \u001b[0;36m<cell line: 1>\u001b[0;34m()\u001b[0m\n\u001b[1;32m      2\u001b[0m     \u001b[0moptimizer\u001b[0m \u001b[0;34m=\u001b[0m \u001b[0mkeras\u001b[0m\u001b[0;34m.\u001b[0m\u001b[0moptimizers\u001b[0m\u001b[0;34m.\u001b[0m\u001b[0mRMSprop\u001b[0m\u001b[0;34m(\u001b[0m\u001b[0;34m)\u001b[0m\u001b[0;34m,\u001b[0m\u001b[0;34m\u001b[0m\u001b[0;34m\u001b[0m\u001b[0m\n\u001b[1;32m      3\u001b[0m     \u001b[0mloss\u001b[0m \u001b[0;34m=\u001b[0m \u001b[0;34m\"binary_crossentropy\"\u001b[0m\u001b[0;34m,\u001b[0m\u001b[0;34m\u001b[0m\u001b[0;34m\u001b[0m\u001b[0m\n\u001b[0;32m----> 4\u001b[0;31m     \u001b[0mmetrics\u001b[0m \u001b[0;34m=\u001b[0m \u001b[0;34m[\u001b[0m\u001b[0mkeras\u001b[0m\u001b[0;34m.\u001b[0m\u001b[0mmetrics\u001b[0m\u001b[0;34m.\u001b[0m\u001b[0maccuracy\u001b[0m\u001b[0;34m(\u001b[0m\u001b[0;34m)\u001b[0m\u001b[0;34m]\u001b[0m\u001b[0;34m\u001b[0m\u001b[0;34m\u001b[0m\u001b[0m\n\u001b[0m\u001b[1;32m      5\u001b[0m )\n",
            "\u001b[0;31mAttributeError\u001b[0m: module 'keras.api._v2.keras.metrics' has no attribute 'accuracy'"
          ]
        }
      ]
    },
    {
      "cell_type": "markdown",
      "source": [
        "# 훈련 검증"
      ],
      "metadata": {
        "id": "qYBWE5VOs_v-"
      }
    },
    {
      "cell_type": "markdown",
      "source": [
        "1만개의 샘플을 떼어 내어 검증 세트를 만들자"
      ],
      "metadata": {
        "id": "w1vYOAMztOjX"
      }
    },
    {
      "cell_type": "code",
      "source": [
        "x_val = x_train[:10000]\n",
        "partial_x_train = x_train[10000:]\n",
        "y_val = y_train[:10000]\n",
        "partial_y_train = y_train[10000:]"
      ],
      "metadata": {
        "id": "8LnmnXSwlGcZ"
      },
      "execution_count": 23,
      "outputs": []
    },
    {
      "cell_type": "markdown",
      "source": [
        "512개의 샘플씩 미니 배치를 만들어 20번의 에포크 동안 모델을 훈련시킨다.(훈련데이터에 있는 모든 샘플에 대해 20번 반복)  \n"
      ],
      "metadata": {
        "id": "WmKmzXVQtN5b"
      }
    },
    {
      "cell_type": "code",
      "source": [
        "history = model.fit(\n",
        "    partial_x_train,\n",
        "    partial_y_train,\n",
        "    epochs = 20,\n",
        "    batch_size = 512,\n",
        "    validation_data = (x_val, y_val)\n",
        ")"
      ],
      "metadata": {
        "colab": {
          "base_uri": "https://localhost:8080/"
        },
        "id": "EHWpZiZptNh3",
        "outputId": "942003e0-72af-47db-c0af-d7bf71125e5b"
      },
      "execution_count": 8,
      "outputs": [
        {
          "output_type": "stream",
          "name": "stdout",
          "text": [
            "Epoch 1/20\n",
            "30/30 [==============================] - 37s 1s/step - loss: 0.5451 - binary_accuracy: 0.7859 - val_loss: 0.4417 - val_binary_accuracy: 0.8519\n",
            "Epoch 2/20\n",
            "30/30 [==============================] - 11s 359ms/step - loss: 0.3562 - binary_accuracy: 0.8915 - val_loss: 0.3358 - val_binary_accuracy: 0.8822\n",
            "Epoch 3/20\n",
            "30/30 [==============================] - 10s 349ms/step - loss: 0.2667 - binary_accuracy: 0.9155 - val_loss: 0.2948 - val_binary_accuracy: 0.8888\n",
            "Epoch 4/20\n",
            "30/30 [==============================] - 11s 366ms/step - loss: 0.2149 - binary_accuracy: 0.9302 - val_loss: 0.3091 - val_binary_accuracy: 0.8740\n",
            "Epoch 5/20\n",
            "30/30 [==============================] - 11s 363ms/step - loss: 0.1813 - binary_accuracy: 0.9419 - val_loss: 0.2895 - val_binary_accuracy: 0.8827\n",
            "Epoch 6/20\n",
            "30/30 [==============================] - 11s 379ms/step - loss: 0.1547 - binary_accuracy: 0.9503 - val_loss: 0.2773 - val_binary_accuracy: 0.8874\n",
            "Epoch 7/20\n",
            "30/30 [==============================] - 10s 355ms/step - loss: 0.1323 - binary_accuracy: 0.9587 - val_loss: 0.2834 - val_binary_accuracy: 0.8867\n",
            "Epoch 8/20\n",
            "30/30 [==============================] - 11s 374ms/step - loss: 0.1174 - binary_accuracy: 0.9635 - val_loss: 0.3018 - val_binary_accuracy: 0.8830\n",
            "Epoch 9/20\n",
            "30/30 [==============================] - 11s 362ms/step - loss: 0.1017 - binary_accuracy: 0.9723 - val_loss: 0.3094 - val_binary_accuracy: 0.8807\n",
            "Epoch 10/20\n",
            "30/30 [==============================] - 11s 363ms/step - loss: 0.0869 - binary_accuracy: 0.9755 - val_loss: 0.3176 - val_binary_accuracy: 0.8834\n",
            "Epoch 11/20\n",
            "30/30 [==============================] - 11s 359ms/step - loss: 0.0755 - binary_accuracy: 0.9800 - val_loss: 0.3357 - val_binary_accuracy: 0.8786\n",
            "Epoch 12/20\n",
            "30/30 [==============================] - 11s 363ms/step - loss: 0.0647 - binary_accuracy: 0.9846 - val_loss: 0.3545 - val_binary_accuracy: 0.8813\n",
            "Epoch 13/20\n",
            "30/30 [==============================] - 11s 360ms/step - loss: 0.0533 - binary_accuracy: 0.9881 - val_loss: 0.3831 - val_binary_accuracy: 0.8721\n",
            "Epoch 14/20\n",
            "30/30 [==============================] - 12s 392ms/step - loss: 0.0475 - binary_accuracy: 0.9902 - val_loss: 0.3886 - val_binary_accuracy: 0.8783\n",
            "Epoch 15/20\n",
            "30/30 [==============================] - 11s 361ms/step - loss: 0.0384 - binary_accuracy: 0.9928 - val_loss: 0.4098 - val_binary_accuracy: 0.8735\n",
            "Epoch 16/20\n",
            "30/30 [==============================] - 12s 397ms/step - loss: 0.0345 - binary_accuracy: 0.9942 - val_loss: 0.4491 - val_binary_accuracy: 0.8745\n",
            "Epoch 17/20\n",
            "30/30 [==============================] - 11s 366ms/step - loss: 0.0277 - binary_accuracy: 0.9959 - val_loss: 0.4499 - val_binary_accuracy: 0.8745\n",
            "Epoch 18/20\n",
            "30/30 [==============================] - 9s 315ms/step - loss: 0.0249 - binary_accuracy: 0.9959 - val_loss: 0.4697 - val_binary_accuracy: 0.8735\n",
            "Epoch 19/20\n",
            "30/30 [==============================] - 9s 305ms/step - loss: 0.0191 - binary_accuracy: 0.9983 - val_loss: 0.4962 - val_binary_accuracy: 0.8746\n",
            "Epoch 20/20\n",
            "30/30 [==============================] - 9s 318ms/step - loss: 0.0160 - binary_accuracy: 0.9987 - val_loss: 0.5155 - val_binary_accuracy: 0.8736\n"
          ]
        }
      ]
    },
    {
      "cell_type": "code",
      "source": [
        "history_dict = history.history"
      ],
      "metadata": {
        "id": "BnsDHEMEtciW"
      },
      "execution_count": 10,
      "outputs": []
    },
    {
      "cell_type": "code",
      "source": [
        "history_dict.keys()"
      ],
      "metadata": {
        "colab": {
          "base_uri": "https://localhost:8080/"
        },
        "id": "QfMLDFtYt26V",
        "outputId": "cdb665fa-fa92-46cb-971c-2e9ba84521ab"
      },
      "execution_count": 11,
      "outputs": [
        {
          "output_type": "execute_result",
          "data": {
            "text/plain": [
              "dict_keys(['loss', 'binary_accuracy', 'val_loss', 'val_binary_accuracy'])"
            ]
          },
          "metadata": {},
          "execution_count": 11
        }
      ]
    },
    {
      "cell_type": "markdown",
      "source": [
        "### 훈련과 검증 손실 그리기"
      ],
      "metadata": {
        "id": "xK9pXen4zSoE"
      }
    },
    {
      "cell_type": "code",
      "source": [
        "import matplotlib.pyplot as plt\n",
        "\n",
        "loss_values = history_dict['loss']\n",
        "val_loss_values = history_dict['val_loss']\n",
        "\n",
        "epochs = range(1, len(loss_values) + 1)\n",
        "\n",
        "plt.plot(epochs, loss_values, \"bo\", label = 'Training loss')\n",
        "plt.plot(epochs,val_loss_values, 'b', label = 'Validation loss')\n",
        "plt.xticks(epochs)\n",
        "plt.title('Training and validation loss')\n",
        "plt.xlabel(\"Epochs\")\n",
        "plt.ylabel('Loss')\n",
        "plt.legend()\n",
        "plt.show()"
      ],
      "metadata": {
        "colab": {
          "base_uri": "https://localhost:8080/",
          "height": 472
        },
        "id": "GpUcSBKLzBFK",
        "outputId": "a795aaff-df85-45cd-b795-d2b13e36e56c"
      },
      "execution_count": 16,
      "outputs": [
        {
          "output_type": "display_data",
          "data": {
            "text/plain": [
              "<Figure size 640x480 with 1 Axes>"
            ],
            "image/png": "[encoded data removed]"
          },
          "metadata": {}
        }
      ]
    },
    {
      "cell_type": "code",
      "source": [
        "plt.clf()\n",
        "\n",
        "acc = history_dict['binary_accuracy']\n",
        "val_acc = history_dict['val_binary_accuracy']\n",
        "\n",
        "plt.plot(epochs, acc, 'bo', label = 'Training acc')\n",
        "plt.plot(epochs, val_acc, 'b', label = 'Validation acc')\n",
        "plt.xticks(epochs)\n",
        "plt.title('Training and validation accuracy')\n",
        "plt.xlabel('Epochs')\n",
        "plt.ylabel('Accuracy')\n",
        "plt.legend()\n",
        "plt.show()"
      ],
      "metadata": {
        "colab": {
          "base_uri": "https://localhost:8080/",
          "height": 472
        },
        "id": "WCwJOxU3zqI6",
        "outputId": "c9a57f9e-9fe0-42fc-8610-2b8217294907"
      },
      "execution_count": 17,
      "outputs": [
        {
          "output_type": "display_data",
          "data": {
            "text/plain": [
              "<Figure size 640x480 with 1 Axes>"
            ],
            "image/png": "[encoded data removed]"
          },
          "metadata": {}
        }
      ]
    },
    {
      "cell_type": "markdown",
      "source": [
        "## 해석\n",
        "훈련 손실이 에포크마다 감소하고 훈련 정확도는 에포크마다 증가함.  \n",
        "경사 하가업 최적화를 사용했을 때 반복마다 최소화되는 것이 손실이므로 기대했던 대로임.  \n",
        "하지만, 검증 손실과 정확도는 이와 같지 않음.  \n",
        "4번째 에포크에서 그래프가 역전되는 것 같음.  \n",
        "이것은 전형적인 과대적합임.  \n",
        "\n",
        "이런 경우에는 과대적합을 방지하기 위해 네 번째 에포크 이후에 훈련을 중지할 수 있음.  \n",
        "처음부터 다시 새로운 신경망을 네 번의 에포크 동안만 훈련하고 테스트 데이터에서 평가해보자."
      ],
      "metadata": {
        "id": "4z2OcmqV0Snc"
      }
    },
    {
      "cell_type": "code",
      "source": [
        "model = keras.Sequential([\n",
        "    layers.Dense(16, activation = \"relu\"),\n",
        "    layers.Dense(16, activation = \"relu\"),\n",
        "    layers.Dense(1, activation = \"sigmoid\"),\n",
        "])"
      ],
      "metadata": {
        "id": "UxJSp4pdz9HG"
      },
      "execution_count": 38,
      "outputs": []
    },
    {
      "cell_type": "code",
      "source": [
        "model.compile(\n",
        "    optimizer = \"rmsprop\",\n",
        "    loss = \"binary_crossentropy\",\n",
        "    metrics = [\"accuracy\"]\n",
        ")"
      ],
      "metadata": {
        "id": "q9zlV9rh1MgR"
      },
      "execution_count": 39,
      "outputs": []
    },
    {
      "cell_type": "code",
      "source": [
        "model.fit(\n",
        "  partial_x_train,\n",
        "  partial_y_train,\n",
        "  epochs = 4,\n",
        "  batch_size = 512\n",
        ")\n",
        "\n",
        "results = model.evaluate(x_test, y_test)\n",
        "results"
      ],
      "metadata": {
        "colab": {
          "base_uri": "https://localhost:8080/"
        },
        "id": "wlJUgu9T1VHv",
        "outputId": "35243ed8-7731-45cf-fa90-2fe3df6cff53"
      },
      "execution_count": 40,
      "outputs": [
        {
          "output_type": "stream",
          "name": "stdout",
          "text": [
            "Epoch 1/4\n",
            "30/30 [==============================] - 24s 770ms/step - loss: 0.5625 - accuracy: 0.7716\n",
            "Epoch 2/4\n",
            "30/30 [==============================] - 6s 196ms/step - loss: 0.3586 - accuracy: 0.8891\n",
            "Epoch 3/4\n",
            "30/30 [==============================] - 6s 196ms/step - loss: 0.2580 - accuracy: 0.9167\n",
            "Epoch 4/4\n",
            "30/30 [==============================] - 6s 196ms/step - loss: 0.2060 - accuracy: 0.9329\n",
            "782/782 [==============================] - 5s 7ms/step - loss: 0.3010 - accuracy: 0.8770\n"
          ]
        },
        {
          "output_type": "execute_result",
          "data": {
            "text/plain": [
              "[0.30103981494903564, 0.8769999742507935]"
            ]
          },
          "metadata": {},
          "execution_count": 40
        }
      ]
    },
    {
      "cell_type": "markdown",
      "source": [
        "첫 번째 숫자 0.30103981494903564는 테스트 손실이고, 두 번째 숫자 0.8769999742507935는 테스트 정확도임"
      ],
      "metadata": {
        "id": "-Ba1rlmt2hLf"
      }
    },
    {
      "cell_type": "markdown",
      "source": [
        "# 예측하기"
      ],
      "metadata": {
        "id": "Pvogku_S1jd-"
      }
    },
    {
      "cell_type": "code",
      "source": [
        "model.predict(x_test)"
      ],
      "metadata": {
        "colab": {
          "base_uri": "https://localhost:8080/"
        },
        "id": "4AcAc9ID1eiw",
        "outputId": "81db64fb-bb18-4bb0-9c7a-e6f356c6f461"
      },
      "execution_count": 41,
      "outputs": [
        {
          "output_type": "stream",
          "name": "stdout",
          "text": [
            "782/782 [==============================] - 5s 7ms/step\n"
          ]
        },
        {
          "output_type": "execute_result",
          "data": {
            "text/plain": [
              "array([[0.25556654],\n",
              "       [0.99731153],\n",
              "       [0.81130314],\n",
              "       ...,\n",
              "       [0.08292313],\n",
              "       [0.11034402],\n",
              "       [0.5307931 ]], dtype=float32)"
            ]
          },
          "metadata": {},
          "execution_count": 41
        }
      ]
    },
    {
      "cell_type": "markdown",
      "source": [
        "# Follow-up : 추가실험\n",
        "1. 여기에서는 최종 분류 층 이전에 2개의 표현 층을 사용했음. 1개 또는 3개의 표현층을 사용하고 검증과 테스트 정확도에 어떤 영향을 미치는지 확인해 보자.  \n",
        "2. 층의 유닛을 추가하거나 줄여 보자. 32개의 유닛, 64개의 유닛 등\n",
        "3. binary_crossentropy 대신 mse손실 함수를 사용해 보자\n",
        "4. relu 대신 tanh 활성화 함수를 사용해 보자."
      ],
      "metadata": {
        "id": "lt-3GYJD1sHo"
      }
    },
    {
      "cell_type": "code",
      "source": [],
      "metadata": {
        "id": "nXTBe6N11z2a"
      },
      "execution_count": null,
      "outputs": []
    }
  ]
}