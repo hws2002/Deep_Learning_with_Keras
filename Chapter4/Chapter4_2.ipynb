{
  "nbformat": 4,
  "nbformat_minor": 0,
  "metadata": {
    "colab": {
      "provenance": [],
      "gpuType": "V28",
      "authorship_tag": "ABX9TyOoScv8Pck+4e8pnDVWfP1o",
      "include_colab_link": true
    },
    "kernelspec": {
      "name": "python3",
      "display_name": "Python 3"
    },
    "language_info": {
      "name": "python"
    },
    "accelerator": "TPU"
  },
  "cells": [
    {
      "cell_type": "markdown",
      "metadata": {
        "id": "view-in-github",
        "colab_type": "text"
      },
      "source": [
        "<a href=\"https://colab.research.google.com/github/hws2002/Deep_Learning_with_Keras/blob/main/Chapter4/Chapter4_2.ipynb\" target=\"_parent\"><img src=\"https://colab.research.google.com/assets/colab-badge.svg\" alt=\"Open In Colab\"/></a>"
      ]
    },
    {
      "cell_type": "code",
      "execution_count": 34,
      "metadata": {
        "id": "d09HaGokDQPD"
      },
      "outputs": [],
      "source": [
        "from tensorflow.keras.datasets import reuters\n",
        "\n",
        "(train_data, train_labels), (test_data, test_labels) = reuters.load_data(\n",
        "    num_words = 10000\n",
        ")"
      ]
    },
    {
      "cell_type": "code",
      "source": [
        "len(train_data)"
      ],
      "metadata": {
        "colab": {
          "base_uri": "https://localhost:8080/"
        },
        "id": "ePaAThrHFmHU",
        "outputId": "25efee4c-ad24-4d9b-f986-bc7f7d4ab405"
      },
      "execution_count": 35,
      "outputs": [
        {
          "output_type": "execute_result",
          "data": {
            "text/plain": [
              "8982"
            ]
          },
          "metadata": {},
          "execution_count": 35
        }
      ]
    },
    {
      "cell_type": "code",
      "source": [
        "start_char = 1\n",
        "oov_char = 2\n",
        "word_index = reuters.get_word_index()\n",
        "reverse_word_index = dict(\n",
        "    (word, i) for (i, word) in word_index.items()\n",
        ")\n",
        "\n",
        "reverse_word_index[start_char] = \"[START]\"\n",
        "reverse_word_index[oov_char] = \"[OOV]\""
      ],
      "metadata": {
        "id": "2WYKdPzpFtD4"
      },
      "execution_count": 36,
      "outputs": []
    },
    {
      "cell_type": "code",
      "source": [
        "decoded_newswire = \" \".join(\n",
        "    reverse_word_index[i] for i in train_data[0]\n",
        ")\n",
        "decoded_newswire"
      ],
      "metadata": {
        "colab": {
          "base_uri": "https://localhost:8080/",
          "height": 90
        },
        "id": "hcyd2Z6oF0cw",
        "outputId": "3c15e903-a8bc-47cf-9906-9db49191fa9a"
      },
      "execution_count": 37,
      "outputs": [
        {
          "output_type": "execute_result",
          "data": {
            "text/plain": [
              "'[START] [OOV] [OOV] mln loss for plc said at only ended said commonwealth could 1 traders now april 0 a after said from 1985 and from foreign 000 april 0 prices its account year a but in this mln home an states earlier and rise and revs vs 000 its 16 vs 000 a but 3 psbr oils several and shareholders and dividend vs 000 its all 4 vs 000 1 mln agreed largely april 0 are 2 states will billion total and against 000 pct dlrs'"
            ],
            "application/vnd.google.colaboratory.intrinsic+json": {
              "type": "string"
            }
          },
          "metadata": {},
          "execution_count": 37
        }
      ]
    },
    {
      "cell_type": "markdown",
      "source": [
        "# 데이터 준비"
      ],
      "metadata": {
        "id": "XnFZDbJPGs5N"
      }
    },
    {
      "cell_type": "code",
      "source": [
        "import numpy as np\n",
        "\n",
        "# input 데이터 처리\n",
        "def vectorize_sequences(sequences, dimension = 100000):\n",
        "  results = np.zeros( (len(sequences), dimension) )\n",
        "  for i, sequence in enumerate(sequences):\n",
        "    for j in sequence:\n",
        "      results[i][j] = 1\n",
        "  return results\n",
        "\n",
        "x_train = vectorize_sequences(train_data)\n",
        "x_test = vectorize_sequences(test_data)"
      ],
      "metadata": {
        "id": "10gCMF1SFrZ4"
      },
      "execution_count": 38,
      "outputs": []
    },
    {
      "cell_type": "code",
      "source": [
        "# label 처리\n",
        "def to_one_hot(labels, dimension = 46):\n",
        "  results = np.zeros((len(labels), dimension))\n",
        "  for i, label in enumerate(labels):\n",
        "      results[i][label] = 1.\n",
        "  return results\n",
        "\n",
        "y_train = to_one_hot(train_labels)\n",
        "y_test = to_one_hot(test_labels)"
      ],
      "metadata": {
        "id": "_nR4ZdV9G1A8"
      },
      "execution_count": 39,
      "outputs": []
    },
    {
      "cell_type": "code",
      "source": [
        "# 케라스에는 이를 위한 내장 함수가 있음\n",
        "from tensorflow.keras.utils import to_categorical\n",
        "\n",
        "y_train = to_categorical(train_labels)\n",
        "y_test = to_categorical(test_labels)"
      ],
      "metadata": {
        "id": "OFVDam5MHhI2"
      },
      "execution_count": 32,
      "outputs": []
    },
    {
      "cell_type": "markdown",
      "source": [
        "# 모델 구성"
      ],
      "metadata": {
        "id": "LUBgSPsJHyG5"
      }
    },
    {
      "cell_type": "code",
      "source": [
        "import keras\n",
        "from keras import layers\n",
        "\n",
        "model = keras.Sequential([\n",
        "    layers.Dense(64, activation = \"relu\"),\n",
        "    layers.Dense(64, activation = \"relu\"),\n",
        "    layers.Dense(46, activation = \"softmax\"),\n",
        "])"
      ],
      "metadata": {
        "id": "kMtXA916HxUh"
      },
      "execution_count": 8,
      "outputs": []
    },
    {
      "cell_type": "code",
      "source": [
        "model.compile(\n",
        "  optimizer = \"rmsprop\",\n",
        "  loss = \"categorical_crossentropy\",\n",
        "  metrics = [\"accuracy\"]\n",
        ")"
      ],
      "metadata": {
        "id": "0Lh1hs_tIM6A"
      },
      "execution_count": 9,
      "outputs": []
    },
    {
      "cell_type": "markdown",
      "source": [
        "# 훈련 검증"
      ],
      "metadata": {
        "id": "-zLJpepyIgJm"
      }
    },
    {
      "cell_type": "code",
      "source": [
        "x_val = x_train[:1000]\n",
        "partial_x_train = x_train[1000:]\n",
        "y_val = y_train[:1000]\n",
        "partial_y_train = y_train[1000:]"
      ],
      "metadata": {
        "id": "ojRtsnHPIhMH"
      },
      "execution_count": 40,
      "outputs": []
    },
    {
      "cell_type": "code",
      "source": [
        "history = model.fit(\n",
        "    partial_x_train,\n",
        "    partial_y_train,\n",
        "    epochs = 20,\n",
        "    batch_size = 512,\n",
        "    validation_data = (x_val, y_val)\n",
        ")"
      ],
      "metadata": {
        "colab": {
          "base_uri": "https://localhost:8080/"
        },
        "id": "05iIIhbwIomr",
        "outputId": "61d57d5a-f4e2-4c1f-a32d-eb9520c3d8ab"
      },
      "execution_count": 11,
      "outputs": [
        {
          "output_type": "stream",
          "name": "stdout",
          "text": [
            "Epoch 1/20\n",
            "16/16 [==============================] - 26s 2s/step - loss: 2.7433 - accuracy: 0.5427 - val_loss: 1.8824 - val_accuracy: 0.6440\n",
            "Epoch 2/20\n",
            "16/16 [==============================] - 8s 508ms/step - loss: 1.5654 - accuracy: 0.6814 - val_loss: 1.3840 - val_accuracy: 0.7010\n",
            "Epoch 3/20\n",
            "16/16 [==============================] - 8s 514ms/step - loss: 1.1924 - accuracy: 0.7388 - val_loss: 1.1854 - val_accuracy: 0.7340\n",
            "Epoch 4/20\n",
            "16/16 [==============================] - 8s 515ms/step - loss: 0.9773 - accuracy: 0.7870 - val_loss: 1.0860 - val_accuracy: 0.7530\n",
            "Epoch 5/20\n",
            "16/16 [==============================] - 8s 522ms/step - loss: 0.8156 - accuracy: 0.8225 - val_loss: 1.0187 - val_accuracy: 0.7720\n",
            "Epoch 6/20\n",
            "16/16 [==============================] - 8s 515ms/step - loss: 0.6804 - accuracy: 0.8503 - val_loss: 0.9583 - val_accuracy: 0.7880\n",
            "Epoch 7/20\n",
            "16/16 [==============================] - 8s 515ms/step - loss: 0.5712 - accuracy: 0.8745 - val_loss: 0.9559 - val_accuracy: 0.7920\n",
            "Epoch 8/20\n",
            "16/16 [==============================] - 8s 521ms/step - loss: 0.4785 - accuracy: 0.8974 - val_loss: 0.8999 - val_accuracy: 0.8150\n",
            "Epoch 9/20\n",
            "16/16 [==============================] - 8s 528ms/step - loss: 0.4081 - accuracy: 0.9126 - val_loss: 0.8729 - val_accuracy: 0.8230\n",
            "Epoch 10/20\n",
            "16/16 [==============================] - 8s 522ms/step - loss: 0.3510 - accuracy: 0.9226 - val_loss: 0.8646 - val_accuracy: 0.8280\n",
            "Epoch 11/20\n",
            "16/16 [==============================] - 8s 515ms/step - loss: 0.2988 - accuracy: 0.9335 - val_loss: 0.8766 - val_accuracy: 0.8100\n",
            "Epoch 12/20\n",
            "16/16 [==============================] - 8s 528ms/step - loss: 0.2695 - accuracy: 0.9386 - val_loss: 0.8571 - val_accuracy: 0.8290\n",
            "Epoch 13/20\n",
            "16/16 [==============================] - 8s 514ms/step - loss: 0.2308 - accuracy: 0.9451 - val_loss: 0.8850 - val_accuracy: 0.8250\n",
            "Epoch 14/20\n",
            "16/16 [==============================] - 8s 527ms/step - loss: 0.2123 - accuracy: 0.9486 - val_loss: 0.8863 - val_accuracy: 0.8220\n",
            "Epoch 15/20\n",
            "16/16 [==============================] - 7s 475ms/step - loss: 0.1900 - accuracy: 0.9511 - val_loss: 0.8903 - val_accuracy: 0.8200\n",
            "Epoch 16/20\n",
            "16/16 [==============================] - 8s 482ms/step - loss: 0.1779 - accuracy: 0.9538 - val_loss: 0.9553 - val_accuracy: 0.8180\n",
            "Epoch 17/20\n",
            "16/16 [==============================] - 7s 468ms/step - loss: 0.1584 - accuracy: 0.9559 - val_loss: 0.9717 - val_accuracy: 0.8100\n",
            "Epoch 18/20\n",
            "16/16 [==============================] - 8s 489ms/step - loss: 0.1549 - accuracy: 0.9543 - val_loss: 0.9271 - val_accuracy: 0.8220\n",
            "Epoch 19/20\n",
            "16/16 [==============================] - 7s 469ms/step - loss: 0.1459 - accuracy: 0.9555 - val_loss: 0.9224 - val_accuracy: 0.8150\n",
            "Epoch 20/20\n",
            "16/16 [==============================] - 8s 475ms/step - loss: 0.1362 - accuracy: 0.9577 - val_loss: 0.9468 - val_accuracy: 0.8130\n"
          ]
        }
      ]
    },
    {
      "cell_type": "code",
      "source": [
        "import matplotlib.pyplot as plt\n",
        "\n",
        "history_dict = history.history\n",
        "loss = history_dict['loss']\n",
        "val_loss = history_dict['val_loss']\n",
        "\n",
        "epochs = range(1, len(loss) + 1)\n",
        "plt.plot(epochs, loss, \"bo\", label = \"training loss\")\n",
        "plt.plot(epochs, val_loss, \"b\", label = \"validation loss\")\n",
        "plt.title(\"Training and validation loss\")\n",
        "plt.xticks(epochs)\n",
        "plt.xlabel(\"Epochs\")\n",
        "plt.ylabel(\"Loss\")\n",
        "plt.legend()\n",
        "plt.show()"
      ],
      "metadata": {
        "colab": {
          "base_uri": "https://localhost:8080/",
          "height": 472
        },
        "id": "3m17z4OZI4p2",
        "outputId": "cdad5e95-efb8-40c2-b640-c178e073bf34"
      },
      "execution_count": 12,
      "outputs": [
        {
          "output_type": "display_data",
          "data": {
            "text/plain": [
              "<Figure size 640x480 with 1 Axes>"
            ],
            "image/png": "[encoded data removed]"
          },
          "metadata": {}
        }
      ]
    },
    {
      "cell_type": "code",
      "source": [
        "\n",
        "acc = history_dict['accuracy']\n",
        "val_acc = history_dict['val_accuracy']\n",
        "\n",
        "plt.plot(epochs, acc, \"bo\", label = \"training accuracy\")\n",
        "plt.plot(epochs, val_acc, \"b\", label = \"validation accuracy\")\n",
        "plt.title(\"Training and validation accuracy\")\n",
        "plt.xticks(epochs)\n",
        "plt.xlabel(\"Epochs\")\n",
        "plt.ylabel(\"Accuracy\")\n",
        "plt.legend()\n",
        "plt.show()"
      ],
      "metadata": {
        "colab": {
          "base_uri": "https://localhost:8080/",
          "height": 472
        },
        "id": "XsUk4xFgJfBY",
        "outputId": "cb03d312-f5f7-4a72-e4e3-3a2828e2c818"
      },
      "execution_count": 13,
      "outputs": [
        {
          "output_type": "display_data",
          "data": {
            "text/plain": [
              "<Figure size 640x480 with 1 Axes>"
            ],
            "image/png": "[encoded data removed]"
          },
          "metadata": {}
        }
      ]
    },
    {
      "cell_type": "markdown",
      "source": [
        "7번째 에포크 이후에 과대적합이 시작되므로, 7번의 에포크로 새로운 모델을 훈련하고 테스트 세트에서 평가해보자"
      ],
      "metadata": {
        "id": "pWHG8XNSKL7y"
      }
    },
    {
      "cell_type": "code",
      "source": [
        "model = keras.Sequential([\n",
        "    layers.Dense(64, activation = \"relu\"),\n",
        "    layers.Dense(64, activation = \"relu\"),\n",
        "    layers.Dense(46, activation = \"softmax\"),\n",
        "])\n",
        "\n",
        "model.compile(\n",
        "  optimizer = \"rmsprop\",\n",
        "  loss = \"categorical_crossentropy\",\n",
        "  metrics = [\"accuracy\"]\n",
        ")"
      ],
      "metadata": {
        "id": "mLC1up-iJqbr"
      },
      "execution_count": 14,
      "outputs": []
    },
    {
      "cell_type": "code",
      "source": [
        "model.fit(\n",
        "    partial_x_train,\n",
        "    partial_y_train,\n",
        "    epochs = 7,\n",
        "    batch_size = 512,\n",
        "    validation_data = (x_val, y_val)\n",
        ")\n",
        "results = model.evaluate(x_test, y_test)"
      ],
      "metadata": {
        "colab": {
          "base_uri": "https://localhost:8080/"
        },
        "id": "sh3FyxbQKUQq",
        "outputId": "39bcb6d4-151c-4e76-e41c-c74f7fd7ae37"
      },
      "execution_count": 15,
      "outputs": [
        {
          "output_type": "stream",
          "name": "stdout",
          "text": [
            "Epoch 1/7\n",
            "16/16 [==============================] - 25s 2s/step - loss: 2.6344 - accuracy: 0.5059 - val_loss: 1.8023 - val_accuracy: 0.6020\n",
            "Epoch 2/7\n",
            "16/16 [==============================] - 7s 468ms/step - loss: 1.5331 - accuracy: 0.6674 - val_loss: 1.3817 - val_accuracy: 0.6880\n",
            "Epoch 3/7\n",
            "16/16 [==============================] - 7s 461ms/step - loss: 1.1905 - accuracy: 0.7355 - val_loss: 1.1879 - val_accuracy: 0.7330\n",
            "Epoch 4/7\n",
            "16/16 [==============================] - 7s 455ms/step - loss: 0.9827 - accuracy: 0.7824 - val_loss: 1.1050 - val_accuracy: 0.7550\n",
            "Epoch 5/7\n",
            "16/16 [==============================] - 7s 448ms/step - loss: 0.8264 - accuracy: 0.8207 - val_loss: 1.0026 - val_accuracy: 0.7820\n",
            "Epoch 6/7\n",
            "16/16 [==============================] - 8s 488ms/step - loss: 0.6926 - accuracy: 0.8459 - val_loss: 0.9387 - val_accuracy: 0.8060\n",
            "Epoch 7/7\n",
            "16/16 [==============================] - 8s 514ms/step - loss: 0.5839 - accuracy: 0.8695 - val_loss: 0.9290 - val_accuracy: 0.8030\n",
            "71/71 [==============================] - 2s 26ms/step - loss: 0.9935 - accuracy: 0.7729\n"
          ]
        }
      ]
    },
    {
      "cell_type": "code",
      "source": [
        "results"
      ],
      "metadata": {
        "colab": {
          "base_uri": "https://localhost:8080/"
        },
        "id": "edn-PLBvKcbm",
        "outputId": "1e6eaf95-0e69-4f7f-ad6c-8f88667daf67"
      },
      "execution_count": 16,
      "outputs": [
        {
          "output_type": "execute_result",
          "data": {
            "text/plain": [
              "[0.9934834241867065, 0.7729296684265137]"
            ]
          },
          "metadata": {},
          "execution_count": 16
        }
      ]
    },
    {
      "cell_type": "markdown",
      "source": [
        "이 모델은 78%에 가까운 정확도를 달성했음.  \n",
        "균형 잡힌 이진 분류 문제에서 완전히 무작위로 분류하면 50%의 정확도를 달성함.  \n",
        "하지만 이 문제는 46개의 클래스가 있고 클래스의 비율이 같지 않음.  \n",
        "랜덤한 분류기를 사용하여 예측하면 정확도가 얼마나 나올까?"
      ],
      "metadata": {
        "id": "nBirKcIvKjPh"
      }
    },
    {
      "cell_type": "code",
      "source": [
        "import copy\n",
        "\n",
        "test_labels_copy = copy.copy(test_labels)\n",
        "np.random.shuffle(test_labels_copy)\n",
        "hits_array = np.array(test_labels) == np.array(test_labels_copy)\n",
        "hits_array.mean()"
      ],
      "metadata": {
        "colab": {
          "base_uri": "https://localhost:8080/"
        },
        "id": "IGdm0vgEKeNv",
        "outputId": "dead2de2-cab9-4a14-fa65-4befcf3d4cb3"
      },
      "execution_count": 17,
      "outputs": [
        {
          "output_type": "execute_result",
          "data": {
            "text/plain": [
              "0.1829919857524488"
            ]
          },
          "metadata": {},
          "execution_count": 17
        }
      ]
    },
    {
      "cell_type": "markdown",
      "source": [
        "약 19%의 분류 정확도를 달성함.  \n",
        "따라서 앞서 확인한 모델의 결과는 꽤 좋은 것 같음."
      ],
      "metadata": {
        "id": "46Ps-7TrK8fn"
      }
    },
    {
      "cell_type": "markdown",
      "source": [
        "# 새로운 데이터에 대해 예측하기"
      ],
      "metadata": {
        "id": "YKBGZaelLBCH"
      }
    },
    {
      "cell_type": "code",
      "source": [
        "predictions = model.predict(x_test)"
      ],
      "metadata": {
        "colab": {
          "base_uri": "https://localhost:8080/"
        },
        "id": "L_WoDQ7eK8B3",
        "outputId": "47c8a5f0-86d5-4efa-dc61-1769fdcfb92f"
      },
      "execution_count": 18,
      "outputs": [
        {
          "output_type": "stream",
          "name": "stdout",
          "text": [
            "71/71 [==============================] - 1s 18ms/step\n"
          ]
        }
      ]
    },
    {
      "cell_type": "code",
      "source": [
        "predictions"
      ],
      "metadata": {
        "colab": {
          "base_uri": "https://localhost:8080/"
        },
        "id": "TZzZXiImLIen",
        "outputId": "fcb766a1-559d-444b-98c4-5e43423b3a58"
      },
      "execution_count": 19,
      "outputs": [
        {
          "output_type": "execute_result",
          "data": {
            "text/plain": [
              "array([[1.7724017e-04, 3.2504770e-04, 5.6790625e-04, ..., 1.8675775e-05,\n",
              "        8.8487323e-06, 4.3157965e-05],\n",
              "       [3.5241693e-03, 7.4448101e-02, 4.2369150e-02, ..., 4.6033406e-04,\n",
              "        5.5335204e-06, 6.4200925e-04],\n",
              "       [6.4410074e-03, 6.6534477e-01, 1.3518785e-02, ..., 1.4653157e-03,\n",
              "        3.1480781e-04, 4.4978686e-04],\n",
              "       ...,\n",
              "       [7.3600240e-05, 1.4629795e-03, 8.6489774e-04, ..., 1.6668398e-04,\n",
              "        3.7754580e-05, 5.5693665e-05],\n",
              "       [1.7922428e-03, 3.1607144e-02, 6.8943878e-03, ..., 4.0115439e-04,\n",
              "        1.7269667e-04, 3.7856749e-04],\n",
              "       [4.1491844e-04, 5.8669645e-01, 2.6345622e-02, ..., 1.1257407e-03,\n",
              "        1.2299213e-04, 2.3280419e-04]], dtype=float32)"
            ]
          },
          "metadata": {},
          "execution_count": 19
        }
      ]
    },
    {
      "cell_type": "code",
      "source": [
        "np.argmax(predictions, axis = 1)"
      ],
      "metadata": {
        "colab": {
          "base_uri": "https://localhost:8080/"
        },
        "id": "-zLWAEM4LKYv",
        "outputId": "1d0f22ca-5209-4bfd-bf4c-42708ed5bfdf"
      },
      "execution_count": 20,
      "outputs": [
        {
          "output_type": "execute_result",
          "data": {
            "text/plain": [
              "array([ 3, 10,  1, ...,  3,  4,  1])"
            ]
          },
          "metadata": {},
          "execution_count": 20
        }
      ]
    },
    {
      "cell_type": "markdown",
      "source": [
        "# Follow-up1 : 레이블과 손실을 다루는 다른 방법"
      ],
      "metadata": {
        "id": "cjWbtoiTLRew"
      }
    },
    {
      "cell_type": "markdown",
      "source": [
        "레이블을 인코딩하는 다른 방법은 다음과 같이 정수 텐서로 변환하는 것임.  \n",
        "이 방식을 사용하려면 손실 함수를 바꾸면 됨.  \n",
        "`categorical_crossentropy'는 레이블이 범주형 인코딩되어 있을 것이라고 기대하므로, 'sparse_categorical_crossentropy'로 변환하면 됨."
      ],
      "metadata": {
        "id": "Mrbi5y4vDtd4"
      }
    },
    {
      "cell_type": "code",
      "source": [
        "y_train = np.array(train_labels)\n",
        "y_test = np.array(test_labels)"
      ],
      "metadata": {
        "id": "lRJ9jGcCE--4"
      },
      "execution_count": 21,
      "outputs": []
    },
    {
      "cell_type": "code",
      "source": [
        "model.compile(optimizer = \"rmsprop\",\n",
        "              loss = 'sparse_categorical_crossentropy',\n",
        "              metrics = ['accuracy'])"
      ],
      "metadata": {
        "id": "VaJ5GQFOLMon"
      },
      "execution_count": 22,
      "outputs": []
    },
    {
      "cell_type": "markdown",
      "source": [
        "새로운 레이블과 손실함수를 가지고 훈련과 예측을 해보자"
      ],
      "metadata": {
        "id": "P4RGA1TAFHEN"
      }
    },
    {
      "cell_type": "code",
      "source": [
        "partial_y_train = y_train[1000:]\n",
        "y_val = y_train[:1000]"
      ],
      "metadata": {
        "id": "pRrbWE2uFPE8"
      },
      "execution_count": 23,
      "outputs": []
    },
    {
      "cell_type": "code",
      "source": [
        "history = model.fit(\n",
        "    partial_x_train,\n",
        "    partial_y_train,\n",
        "    epochs = 7,\n",
        "    batch_size = 128,\n",
        "    validation_data = (x_val, y_val)\n",
        ")"
      ],
      "metadata": {
        "colab": {
          "base_uri": "https://localhost:8080/"
        },
        "id": "wLOV9kd8FCQO",
        "outputId": "62436b94-a52f-4775-a26f-f1f07d7ee476"
      },
      "execution_count": 27,
      "outputs": [
        {
          "output_type": "stream",
          "name": "stdout",
          "text": [
            "Epoch 1/7\n",
            "63/63 [==============================] - 20s 317ms/step - loss: 0.4275 - accuracy: 0.9049 - val_loss: 0.8750 - val_accuracy: 0.8150\n",
            "Epoch 2/7\n",
            "63/63 [==============================] - 16s 248ms/step - loss: 0.3207 - accuracy: 0.9282 - val_loss: 0.8602 - val_accuracy: 0.8240\n",
            "Epoch 3/7\n",
            "63/63 [==============================] - 15s 246ms/step - loss: 0.2566 - accuracy: 0.9406 - val_loss: 0.8888 - val_accuracy: 0.8220\n",
            "Epoch 4/7\n",
            "63/63 [==============================] - 15s 244ms/step - loss: 0.2094 - accuracy: 0.9499 - val_loss: 0.9524 - val_accuracy: 0.8110\n",
            "Epoch 5/7\n",
            "63/63 [==============================] - 16s 250ms/step - loss: 0.1871 - accuracy: 0.9514 - val_loss: 0.9759 - val_accuracy: 0.8070\n",
            "Epoch 6/7\n",
            "63/63 [==============================] - 16s 263ms/step - loss: 0.1714 - accuracy: 0.9521 - val_loss: 0.9959 - val_accuracy: 0.8110\n",
            "Epoch 7/7\n",
            "63/63 [==============================] - 15s 234ms/step - loss: 0.1610 - accuracy: 0.9551 - val_loss: 1.0107 - val_accuracy: 0.8070\n"
          ]
        }
      ]
    },
    {
      "cell_type": "code",
      "source": [
        "history_dict = history.history\n",
        "loss = history_dict['loss']\n",
        "val_loss = history_dict['val_loss']\n",
        "\n",
        "epochs = range(1, len(loss) + 1)\n",
        "plt.plot(epochs, loss, \"bo\", label = \"training loss\")\n",
        "plt.plot(epochs, val_loss, \"b\", label = \"validation loss\")\n",
        "plt.title(\"Training and validation loss\")\n",
        "plt.xticks(epochs)\n",
        "plt.xlabel(\"Epochs\")\n",
        "plt.ylabel(\"Loss\")\n",
        "plt.legend()\n",
        "plt.show()"
      ],
      "metadata": {
        "colab": {
          "base_uri": "https://localhost:8080/",
          "height": 472
        },
        "id": "xoHvNZuBFZKV",
        "outputId": "17e75629-1bd0-4ff7-b530-29dd48b9bff8"
      },
      "execution_count": 28,
      "outputs": [
        {
          "output_type": "display_data",
          "data": {
            "text/plain": [
              "<Figure size 640x480 with 1 Axes>"
            ],
            "image/png": "[encoded data removed]"
          },
          "metadata": {}
        }
      ]
    },
    {
      "cell_type": "code",
      "source": [
        "acc = history_dict['accuracy']\n",
        "val_acc = history_dict['val_accuracy']\n",
        "\n",
        "plt.plot(epochs, acc, \"bo\", label = \"training accuracy\")\n",
        "plt.plot(epochs, val_acc, \"b\", label = \"validation accuracy\")\n",
        "plt.title(\"Training and validation accuracy\")\n",
        "plt.xticks(epochs)\n",
        "plt.xlabel(\"Epochs\")\n",
        "plt.ylabel(\"Accuracy\")\n",
        "plt.legend()\n",
        "plt.show()"
      ],
      "metadata": {
        "colab": {
          "base_uri": "https://localhost:8080/",
          "height": 472
        },
        "id": "lOOCanKpGG7T",
        "outputId": "ced43609-b4f6-4bc3-b56b-1172bde33651"
      },
      "execution_count": 31,
      "outputs": [
        {
          "output_type": "display_data",
          "data": {
            "text/plain": [
              "<Figure size 640x480 with 1 Axes>"
            ],
            "image/png": "[encoded data removed]"
          },
          "metadata": {}
        }
      ]
    },
    {
      "cell_type": "code",
      "source": [
        "results = model.evaluate(x_test, y_test)\n",
        "results"
      ],
      "metadata": {
        "colab": {
          "base_uri": "https://localhost:8080/"
        },
        "id": "E2XIYlXbF1rb",
        "outputId": "5fd9f7c2-e6ab-439c-89b1-d04c88e07730"
      },
      "execution_count": 30,
      "outputs": [
        {
          "output_type": "stream",
          "name": "stdout",
          "text": [
            "71/71 [==============================] - 2s 22ms/step - loss: 1.1161 - accuracy: 0.7845\n"
          ]
        },
        {
          "output_type": "execute_result",
          "data": {
            "text/plain": [
              "[1.1160781383514404, 0.7845057845115662]"
            ]
          },
          "metadata": {},
          "execution_count": 30
        }
      ]
    },
    {
      "cell_type": "markdown",
      "source": [
        "전체적으로 모델의 성능은 감소한것 같다."
      ],
      "metadata": {
        "id": "WXAU5yitGKbX"
      }
    },
    {
      "cell_type": "markdown",
      "source": [
        "# Follow-up2 : 충분히 큰 중간층을 두어야 하는 이유\n",
        "마지막 출력이 46차원이기 때문에 중간층의 중간 유닛이 46개보다 많이 적어서는 안됨.  \n",
        "46차원보다 훨씬 작은 중간층(예를 들어 4차원)을 두면 정보의 병목이 어떻게 나타나는지 확인해보자  "
      ],
      "metadata": {
        "id": "aGdE2TNAF8lB"
      }
    },
    {
      "cell_type": "code",
      "source": [
        "y_train = to_categorical(train_labels)\n",
        "y_test = to_categorical(test_labels)"
      ],
      "metadata": {
        "id": "WNAUW3qPH0Xi"
      },
      "execution_count": 41,
      "outputs": []
    },
    {
      "cell_type": "code",
      "source": [
        "x_val = x_train[:1000]\n",
        "partial_x_train = x_train[1000:]\n",
        "y_val = y_train[:1000]\n",
        "partial_y_train = y_train[1000:]"
      ],
      "metadata": {
        "id": "2ux6tfUGGw0K"
      },
      "execution_count": 42,
      "outputs": []
    },
    {
      "cell_type": "code",
      "source": [
        "model = keras.Sequential([\n",
        "    layers.Dense(64, activation = 'relu'),\n",
        "    layers.Dense(4, activation = 'relu'),\n",
        "    layers.Dense(46, activation = 'softmax')\n",
        "])\n",
        "\n",
        "model.compile(optimizer = \"rmsprop\",\n",
        "              loss = 'categorical_crossentropy',\n",
        "              metrics =['accuracy'])\n",
        "\n",
        "history = model.fit(\n",
        "    partial_x_train,\n",
        "    partial_y_train,\n",
        "    epochs = 20,\n",
        "    batch_size = 128,\n",
        "    validation_data = (x_val, y_val)\n",
        ")"
      ],
      "metadata": {
        "colab": {
          "base_uri": "https://localhost:8080/"
        },
        "id": "o05xh5_QF60i",
        "outputId": "dc543397-a410-42f6-8a5b-9781b1e58391"
      },
      "execution_count": 45,
      "outputs": [
        {
          "output_type": "stream",
          "name": "stdout",
          "text": [
            "Epoch 1/20\n",
            "63/63 [==============================] - 22s 341ms/step - loss: 2.8311 - accuracy: 0.3160 - val_loss: 2.2589 - val_accuracy: 0.4060\n",
            "Epoch 2/20\n",
            "63/63 [==============================] - 16s 258ms/step - loss: 1.9900 - accuracy: 0.4431 - val_loss: 1.8440 - val_accuracy: 0.4720\n",
            "Epoch 3/20\n",
            "63/63 [==============================] - 15s 241ms/step - loss: 1.5856 - accuracy: 0.5157 - val_loss: 1.5548 - val_accuracy: 0.5670\n",
            "Epoch 4/20\n",
            "63/63 [==============================] - 16s 250ms/step - loss: 1.3093 - accuracy: 0.6832 - val_loss: 1.3836 - val_accuracy: 0.6750\n",
            "Epoch 5/20\n",
            "63/63 [==============================] - 16s 250ms/step - loss: 1.1390 - accuracy: 0.7185 - val_loss: 1.3291 - val_accuracy: 0.6860\n",
            "Epoch 6/20\n",
            "63/63 [==============================] - 15s 239ms/step - loss: 1.0260 - accuracy: 0.7404 - val_loss: 1.2795 - val_accuracy: 0.7020\n",
            "Epoch 7/20\n",
            "63/63 [==============================] - 16s 247ms/step - loss: 0.9367 - accuracy: 0.7537 - val_loss: 1.2459 - val_accuracy: 0.7180\n",
            "Epoch 8/20\n",
            "63/63 [==============================] - 16s 247ms/step - loss: 0.8654 - accuracy: 0.7690 - val_loss: 1.2974 - val_accuracy: 0.7140\n",
            "Epoch 9/20\n",
            "63/63 [==============================] - 15s 239ms/step - loss: 0.8051 - accuracy: 0.7809 - val_loss: 1.2704 - val_accuracy: 0.7160\n",
            "Epoch 10/20\n",
            "63/63 [==============================] - 15s 239ms/step - loss: 0.7503 - accuracy: 0.7903 - val_loss: 1.2410 - val_accuracy: 0.7290\n",
            "Epoch 11/20\n",
            "63/63 [==============================] - 15s 245ms/step - loss: 0.7025 - accuracy: 0.8018 - val_loss: 1.2694 - val_accuracy: 0.7250\n",
            "Epoch 12/20\n",
            "63/63 [==============================] - 16s 247ms/step - loss: 0.6613 - accuracy: 0.8137 - val_loss: 1.3218 - val_accuracy: 0.7300\n",
            "Epoch 13/20\n",
            "63/63 [==============================] - 15s 239ms/step - loss: 0.6240 - accuracy: 0.8227 - val_loss: 1.3055 - val_accuracy: 0.7260\n",
            "Epoch 14/20\n",
            "63/63 [==============================] - 16s 249ms/step - loss: 0.5898 - accuracy: 0.8385 - val_loss: 1.3723 - val_accuracy: 0.7210\n",
            "Epoch 15/20\n",
            "63/63 [==============================] - 15s 245ms/step - loss: 0.5601 - accuracy: 0.8494 - val_loss: 1.3627 - val_accuracy: 0.7220\n",
            "Epoch 16/20\n",
            "63/63 [==============================] - 16s 252ms/step - loss: 0.5349 - accuracy: 0.8588 - val_loss: 1.4342 - val_accuracy: 0.7240\n",
            "Epoch 17/20\n",
            "63/63 [==============================] - 16s 247ms/step - loss: 0.5083 - accuracy: 0.8632 - val_loss: 1.4280 - val_accuracy: 0.7240\n",
            "Epoch 18/20\n",
            "63/63 [==============================] - 15s 244ms/step - loss: 0.4892 - accuracy: 0.8676 - val_loss: 1.5365 - val_accuracy: 0.7210\n",
            "Epoch 19/20\n",
            "63/63 [==============================] - 15s 236ms/step - loss: 0.4699 - accuracy: 0.8722 - val_loss: 1.5195 - val_accuracy: 0.7250\n",
            "Epoch 20/20\n",
            "63/63 [==============================] - 15s 231ms/step - loss: 0.4538 - accuracy: 0.8781 - val_loss: 1.5875 - val_accuracy: 0.7150\n"
          ]
        }
      ]
    },
    {
      "cell_type": "markdown",
      "source": [
        "검증 정확도의 최고 값이 약 73%로 이전보다 감소했음을 알 수 있다.  \n",
        "이런 손실의 원인 대부분은 많은 정보를 중간층의 저차원 표현 공간으로 압축하려고 했기 때문임.  \n",
        "이 모델은 필요한 정보 대부분을 4차원 표현 안에 구겨 넣었지만 전부는 넣지 못함."
      ],
      "metadata": {
        "id": "rJrhycNBIOUT"
      }
    },
    {
      "cell_type": "code",
      "source": [
        "results = model.evaluate(x_test, y_test)\n",
        "results"
      ],
      "metadata": {
        "colab": {
          "base_uri": "https://localhost:8080/"
        },
        "id": "jueM1E3KIChr",
        "outputId": "21248e35-9323-44ce-dafe-4135c3380a0f"
      },
      "execution_count": 46,
      "outputs": [
        {
          "output_type": "stream",
          "name": "stdout",
          "text": [
            "71/71 [==============================] - 1s 18ms/step - loss: 1.8316 - accuracy: 0.6932\n"
          ]
        },
        {
          "output_type": "execute_result",
          "data": {
            "text/plain": [
              "[1.8315675258636475, 0.6932324171066284]"
            ]
          },
          "metadata": {},
          "execution_count": 46
        }
      ]
    },
    {
      "cell_type": "markdown",
      "source": [
        "# Follow-up3\n",
        "1. 더 크거나 작은 층을 사용해 보자. (32개의 유닛, 128개의 유닛 등)  \n",
        "2. 여기에선 최종 소프트맥스 분류 층 이전에 2개의 중간층을 사용했음. 1개나 3개의 중간층을 사용해 보자."
      ],
      "metadata": {
        "id": "TXyVu3yhIY6z"
      }
    }
  ]
}