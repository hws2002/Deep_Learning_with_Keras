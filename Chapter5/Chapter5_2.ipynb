{
  "nbformat": 4,
  "nbformat_minor": 0,
  "metadata": {
    "colab": {
      "provenance": [],
      "authorship_tag": "ABX9TyMfQT1xAniYDmCjOXS+C0K7",
      "include_colab_link": true
    },
    "kernelspec": {
      "name": "python3",
      "display_name": "Python 3"
    },
    "language_info": {
      "name": "python"
    }
  },
  "cells": [
    {
      "cell_type": "markdown",
      "metadata": {
        "id": "view-in-github",
        "colab_type": "text"
      },
      "source": [
        "<a href=\"https://colab.research.google.com/github/hws2002/Deep_Learning_with_Keras/blob/main/Chapter5/Chapter5_2.ipynb\" target=\"_parent\"><img src=\"https://colab.research.google.com/assets/colab-badge.svg\" alt=\"Open In Colab\"/></a>"
      ]
    },
    {
      "cell_type": "markdown",
      "source": [
        "# 훈련, 검증, 테스트 세트"
      ],
      "metadata": {
        "id": "Z6bkaCUl1OhP"
      }
    },
    {
      "cell_type": "markdown",
      "source": [
        "## 단순 홀드아웃 검증"
      ],
      "metadata": {
        "id": "-tfBCSo938an"
      }
    },
    {
      "cell_type": "code",
      "source": [
        "num_validation_samples = 10000\n",
        "np.random.shuffle(data)\n",
        "validation_data = data[:num_validation_samples]\n",
        "training_data = data[num_validation_samples:]\n",
        "\n",
        "model = get_model()\n",
        "model.fit(training_data,)\n",
        "validation_error = model.evaluate(validation_data,) # 훈련 세트에서 모델을 훈련하고 검증 세트로 평가한다.\n",
        "\n",
        "... # 여기에서 모델을 튜닝, 훈련, 평가하는 과정을 반복함.\n",
        "model = get_model()\n",
        "model.fit(np.concatenate([training_data, validation_data]),) # 하이퍼파라미터 튜닝이 끝나면 테스트 데이터를 제외한\n",
        "# 모든 데이터를 사용하여 모델을 다시 훈련시킴.\n",
        "test_score = model.evaluate(test_data)"
      ],
      "metadata": {
        "id": "WoGAbsE91OXP"
      },
      "execution_count": null,
      "outputs": []
    },
    {
      "cell_type": "markdown",
      "source": [
        "# K-겹 교차 검증"
      ],
      "metadata": {
        "id": "idZkBg275cPJ"
      }
    },
    {
      "cell_type": "code",
      "execution_count": null,
      "metadata": {
        "id": "BGLqnb9aV0QQ"
      },
      "outputs": [],
      "source": [
        "num_validation_samples = len(data) // k\n",
        "np.random.shuffle(data)\n",
        "validation_scores = []\n",
        "\n",
        "for fold in range(k):\n",
        "  validation_data = data[ fold * num_validation_samples : (fold+1) * num_validation_samples]\n",
        "  training_data = np.concatenate(\n",
        "      [data[: fold * num_validation_samples],\n",
        "       data[(fold+1) * num_validation_samples : ]], axis = 0\n",
        "  )\n",
        "\n",
        "  model = get_model() #\n",
        "  model.fit(training_data, ...)\n",
        "  validation_score = model.evaluate(validation_data, ...)\n",
        "  validation_scores.append(validation_score)\n",
        "\n",
        "validation_score = np.average(validation_scores)\n",
        "\n",
        "model = get_model()\n",
        "model.fit(data, ...)\n",
        "test_score = model.evaluate(test_data, ...)"
      ]
    }
  ]
}