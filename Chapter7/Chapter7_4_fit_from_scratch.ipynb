{
  "nbformat": 4,
  "nbformat_minor": 0,
  "metadata": {
    "colab": {
      "provenance": [],
      "authorship_tag": "ABX9TyM6DsU44iwl4M7Lc97Bdr9I",
      "include_colab_link": true
    },
    "kernelspec": {
      "name": "python3",
      "display_name": "Python 3"
    },
    "language_info": {
      "name": "python"
    }
  },
  "cells": [
    {
      "cell_type": "markdown",
      "metadata": {
        "id": "view-in-github",
        "colab_type": "text"
      },
      "source": [
        "<a href=\"https://colab.research.google.com/github/hws2002/Deep_Learning_with_Keras/blob/main/Chapter7/Chapter7_4_fit_from_scratch.ipynb\" target=\"_parent\"><img src=\"https://colab.research.google.com/assets/colab-badge.svg\" alt=\"Open In Colab\"/></a>"
      ]
    },
    {
      "cell_type": "markdown",
      "source": [
        "# 훈련 vs 추론"
      ],
      "metadata": {
        "id": "f2nfDr17y4nf"
      }
    },
    {
      "cell_type": "code",
      "execution_count": 1,
      "metadata": {
        "id": "ZVQDDoCmxi4r"
      },
      "outputs": [],
      "source": [
        "def train_step(inputs, targets):\n",
        "  with tf.GradientTape() as tape:\n",
        "    predictions = model(inputs, training = True)\n",
        "    loss = loss_fn(targets, predictions)\n",
        "  gradients = tape.gradients(loss, model.trainable_weights)\n",
        "  optimizer.apply_gradients(zip(model.trainable_Weights, gradients))\n"
      ]
    },
    {
      "cell_type": "markdown",
      "source": [
        "# 측정 지표의 저수준 사용법"
      ],
      "metadata": {
        "id": "_YK0vA8WzSSo"
      }
    },
    {
      "cell_type": "code",
      "source": [
        "import keras\n",
        "from keras import layers\n",
        "\n",
        "metric = keras.metrics.SparseCategoricalAccuracy()\n",
        "targets = [0,1,2]\n",
        "predictions = [[1,0,0],[0,1,0],[0,0,1]]\n",
        "metric.update_state(targets, predictions)\n",
        "current_result = metric.result()\n",
        "print(f\"결과 : {current_result:.2f}\")"
      ],
      "metadata": {
        "colab": {
          "base_uri": "https://localhost:8080/"
        },
        "id": "nMLmEVHdzTPy",
        "outputId": "7a6020da-fe7b-4e47-af8a-124b3cc21969"
      },
      "execution_count": 2,
      "outputs": [
        {
          "output_type": "stream",
          "name": "stdout",
          "text": [
            "결과 : 1.00\n"
          ]
        }
      ]
    },
    {
      "cell_type": "code",
      "source": [
        "values = [0,1,2,3,4]\n",
        "\n",
        "mean_tracker = keras.metrics.Mean()\n",
        "for value in values:\n",
        "  mean_tracker.update_state(value)\n",
        "print(f\"평균 지표 : {mean_tracker.result():.2f}\")"
      ],
      "metadata": {
        "colab": {
          "base_uri": "https://localhost:8080/"
        },
        "id": "tB14kz4YzxQl",
        "outputId": "8200e06d-e9de-4528-fe58-4949f61b3cf9"
      },
      "execution_count": 3,
      "outputs": [
        {
          "output_type": "stream",
          "name": "stdout",
          "text": [
            "평균 지표 : 2.00\n"
          ]
        }
      ]
    },
    {
      "cell_type": "markdown",
      "source": [
        "# 완전한 훈련과 평가 루프"
      ],
      "metadata": {
        "id": "FZ4I2bug0Tpb"
      }
    },
    {
      "cell_type": "code",
      "source": [
        "\n",
        "def get_mnist_model():\n",
        "  inputs = keras.Input(shape = (28*28,))\n",
        "  features = layers.Dense(512, activation = \"relu\")(inputs)\n",
        "  features = layers.Dropout(0.5)(features)\n",
        "  outputs = layers.Dense(10, activation = \"softmax\")(features)\n",
        "  model =  keras.Model(inputs, outputs)\n",
        "  return model\n",
        "\n",
        "model = get_mnist_model()\n",
        "\n",
        "loss_fn = keras.losses.SparseCategoricalCrossentropy()\n",
        "optimizer = keras.optimizers.RMSprop()\n",
        "metrics = [keras.metrics.SparseCategoricalAccuracy()]\n",
        "loss_tracking_metric = keras.metrics.Mean()\n",
        "\n",
        "def train_step(inputs, targets):\n",
        "  with tf.GradientTape() as tape:\n",
        "    predictions = model(inputs, training = True)\n",
        "    loss = loss_fn(targets, predictions)\n",
        "    gradients = tape.gradient(loss ,model.trainable_weights)\n",
        "    optimizer.apply_gradients(zip(gradients, model.trainable_weights))\n",
        "    logs = {}\n",
        "    for metric in metrics:\n",
        "      metric.update_state(targets, predictions)\n",
        "      logs[metric.name] = metric.result()\n",
        "    loss_tracking_metric.update_state(loss) # 손실 평균을 계산함\n",
        "    logs['loss'] = loss_tracking_metric.result()\n",
        "    return logs"
      ],
      "metadata": {
        "id": "yLBzuyd70ET8"
      },
      "execution_count": 4,
      "outputs": []
    },
    {
      "cell_type": "markdown",
      "source": [
        "매 에포크 시작과 평가 전에 지표의 상태를 재설정해야 함."
      ],
      "metadata": {
        "id": "i05M5--F1YfS"
      }
    },
    {
      "cell_type": "code",
      "source": [
        "def reset_metrics():\n",
        "  for metric in metrics:\n",
        "    metric.reset_state()\n",
        "  loss_tracking_metric.reset_state()"
      ],
      "metadata": {
        "id": "cPlI5JZn1N36"
      },
      "execution_count": 5,
      "outputs": []
    },
    {
      "cell_type": "markdown",
      "source": [
        "이제 완전한 훈련 루프를 구성해보자"
      ],
      "metadata": {
        "id": "QaYXFSve1gxt"
      }
    },
    {
      "cell_type": "code",
      "source": [
        "from tensorflow.keras.datasets import mnist\n",
        "\n",
        "(images,labels), (test_images, test_labels) = mnist.load_data()\n",
        "images = images.reshape((60000, 28*28)).astype(\"float32\") / 255\n",
        "test_images = test_images.reshape((10000, 28*28)).astype(\"float32\") / 255\n",
        "train_images, val_images = images[10000:], images[:10000]\n",
        "train_labels, val_labels = labels[10000:], labels[:10000]"
      ],
      "metadata": {
        "colab": {
          "base_uri": "https://localhost:8080/"
        },
        "id": "_8_uCrKI1ntt",
        "outputId": "d43472b2-f431-435b-96fe-4a9020bb4568"
      },
      "execution_count": 6,
      "outputs": [
        {
          "output_type": "stream",
          "name": "stdout",
          "text": [
            "Downloading data from https://storage.googleapis.com/tensorflow/tf-keras-datasets/mnist.npz\n",
            "\u001b[1m11490434/11490434\u001b[0m \u001b[32m━━━━━━━━━━━━━━━━━━━━\u001b[0m\u001b[37m\u001b[0m \u001b[1m0s\u001b[0m 0us/step\n"
          ]
        }
      ]
    },
    {
      "cell_type": "code",
      "source": [
        "import tensorflow as tf\n",
        "training_dataset = tf.data.Dataset.from_tensor_slices(\n",
        "    (train_images, train_labels)\n",
        ")\n",
        "\n",
        "training_dataset = training_dataset.batch(32)\n",
        "epochs = 3\n",
        "for epoch in range(epochs):\n",
        "  reset_metrics()\n",
        "  for inputs_batch, targets_batch in training_dataset:\n",
        "    logs = train_step(inputs_batch, targets_batch)\n",
        "  print(f\"{epoch}번째 에포크 결과\")\n",
        "  for key, value in logs.items():\n",
        "    print(f\"...{key} : {value:.4f}\")"
      ],
      "metadata": {
        "colab": {
          "base_uri": "https://localhost:8080/"
        },
        "id": "Tbr5JYH21fs9",
        "outputId": "dd847ce6-35c9-4537-dde6-6450a6e24393"
      },
      "execution_count": 7,
      "outputs": [
        {
          "output_type": "stream",
          "name": "stdout",
          "text": [
            "0번째 에포크 결과\n",
            "...sparse_categorical_accuracy : 0.9122\n",
            "...loss : 0.2939\n",
            "1번째 에포크 결과\n",
            "...sparse_categorical_accuracy : 0.9545\n",
            "...loss : 0.1598\n",
            "2번째 에포크 결과\n",
            "...sparse_categorical_accuracy : 0.9636\n",
            "...loss : 0.1289\n"
          ]
        }
      ]
    },
    {
      "cell_type": "markdown",
      "source": [
        "## 평가 루프"
      ],
      "metadata": {
        "id": "Nl4frRoGztW3"
      }
    },
    {
      "cell_type": "code",
      "source": [
        "\n",
        "def test_step(inputs, targets):\n",
        "  predictions = model(inputs, training = False)\n",
        "  loss = loss_fn(targets, predictions)\n",
        "\n",
        "  logs = {}\n",
        "  for metric in metrics:\n",
        "    metric.update_state(targets, predictions)\n",
        "    logs['val_' + metric.name] = metric.result()\n",
        "  loss_tracking_metric.update_state(loss)\n",
        "  logs['val_loss'] = loss_tracking_metric.result()\n",
        "  return logs\n",
        "\n",
        "val_dataset = tf.data.Dataset.from_tensor_slices((val_images, val_labels))\n",
        "val_dataset = val_dataset.batch(32)\n",
        "reset_metrics()\n",
        "\n",
        "for inputs_batch, targets_batch in val_dataset:\n",
        "  logs = test_step(inputs_batch, targets_batch)\n",
        "\n",
        "print(\"평가 결과 : \")\n",
        "for key, value in logs.items():\n",
        "  print(f\"...{key} : {value:.4f}\")"
      ],
      "metadata": {
        "colab": {
          "base_uri": "https://localhost:8080/"
        },
        "id": "AliFpN8rz55Q",
        "outputId": "3a8a941a-163d-445a-e113-35702b6daa3a"
      },
      "execution_count": 8,
      "outputs": [
        {
          "output_type": "stream",
          "name": "stdout",
          "text": [
            "평가 결과 : \n",
            "...val_sparse_categorical_accuracy : 0.9675\n",
            "...val_loss : 0.1228\n"
          ]
        }
      ]
    },
    {
      "cell_type": "markdown",
      "source": [
        "# tf.function으로 성능 높이기"
      ],
      "metadata": {
        "id": "DhMcM4EMw3pq"
      }
    },
    {
      "cell_type": "code",
      "source": [
        "# @tf.function # 이 라인만 추가됨\n",
        "def test_step(inputs, targets):\n",
        "  predictions = model(inputs, training = False)\n",
        "  loss = loss_fn(targets, predictions)\n",
        "\n",
        "  logs = {}\n",
        "  for metric in metrics:\n",
        "    metric.update_state(targets, predictions)\n",
        "    logs['val_' + metric.name] = metric.result()\n",
        "\n",
        "  loss_tracking_metric.update_state(loss)\n",
        "  logs['val_loss'] = loss_tracking_metric.result()\n",
        "  return logs\n",
        "\n",
        "val_dataset = tf.data.Dataset.from_tensor_slices((val_images, val_labels))\n",
        "val_dataset = val_dataset.batch(32)\n",
        "reset_metrics()\n",
        "\n",
        "for inputs_batch, targets_batch in val_dataset:\n",
        "  logs = test_step(inputs_batch, targets_batch)\n",
        "\n",
        "print(\"평가 결과 : \")\n",
        "for key, value in logs.items():\n",
        "  print(f\"...{key} : {value:.4f}\")"
      ],
      "metadata": {
        "id": "U37UQ9Af1qLt",
        "colab": {
          "base_uri": "https://localhost:8080/"
        },
        "outputId": "c523e511-848f-4ced-cc94-8f3db8001f57"
      },
      "execution_count": 9,
      "outputs": [
        {
          "output_type": "stream",
          "name": "stdout",
          "text": [
            "평가 결과 : \n",
            "...val_sparse_categorical_accuracy : 0.9675\n",
            "...val_loss : 0.1228\n"
          ]
        }
      ]
    },
    {
      "cell_type": "markdown",
      "source": [
        "# fit() 메서드를 사용자 정의 루프로 활용하기"
      ],
      "metadata": {
        "id": "7VAxzvEP_k71"
      }
    },
    {
      "cell_type": "code",
      "source": [
        "loss_fn = keras.losses.SparseCategoricalCrossentropy()\n",
        "\n",
        "loss_tracker = keras.metrics.Mean(name = \"loss\") # 이 객체는 훈련과 평가 과정에서 배치 손실의 평균을 추적함\n",
        "\n",
        "class CustomModel(keras.Model):\n",
        "  def train_step(self, data): # train_step 메서드를 오버라이딩함\n",
        "    inputs, targets = data\n",
        "    with tf.GradientTape() as tape:\n",
        "      predictions = self(inputs, training = True) # 모델이 클래스 자체이므로 model(inputs, training = True) 대신에\n",
        "      # self(inputs, training = True)를 사용함\n",
        "      loss = loss_fn(targets, predictions)\n",
        "\n",
        "    gradients = tape.gradient(loss, self.trainable_weights)\n",
        "    self.optimizer.apply_gradients(zip(gradients, self.trainable_weights))\n",
        "    loss_tracker.update_state(loss) # 손실의 평균을 추적하는 loss_tracker를 업데이트함\n",
        "    return {\"loss\" : loss_tracker.result()} # 평균 손실을 구함\n",
        "\n",
        "  @property\n",
        "  def metrics(self): # 에포크마다 재설정할 지표는 여기에 나열해야 함\n",
        "    return [loss_tracker]"
      ],
      "metadata": {
        "id": "nPZvG3SOzk1H"
      },
      "execution_count": 19,
      "outputs": []
    },
    {
      "cell_type": "markdown",
      "source": [
        "이제 사용자 정의 모델의 객체를 만들고 컴파일하고 (손실은 모델 밖에서 이미 정의했기 때문에 옵티마이저만 전달함) 보통 떄처럼 fit() 메서드로 훈련할 수 있음"
      ],
      "metadata": {
        "id": "NbvNBJNa5rdS"
      }
    },
    {
      "cell_type": "code",
      "source": [
        "inputs = keras.Input(shape = (28*28,))\n",
        "features = layers.Dense(512, activation = 'relu')(inputs)\n",
        "features = layers.Dropout(0.5)(features)\n",
        "outputs = layers.Dense(10, activation = \"softmax\")(features)\n",
        "model = CustomModel(inputs, outputs)\n",
        "\n",
        "model.compile(\n",
        "    optimizer = keras.optimizers.RMSprop()\n",
        ")\n",
        "\n",
        "model.fit(train_images, train_labels, epochs = 3)\n"
      ],
      "metadata": {
        "colab": {
          "base_uri": "https://localhost:8080/"
        },
        "id": "9yUNnfFh4bk2",
        "outputId": "191c9982-b38a-455d-e03c-848475fdf8d6"
      },
      "execution_count": 20,
      "outputs": [
        {
          "output_type": "stream",
          "name": "stdout",
          "text": [
            "Epoch 1/3\n",
            "\u001b[1m1563/1563\u001b[0m \u001b[32m━━━━━━━━━━━━━━━━━━━━\u001b[0m\u001b[37m\u001b[0m \u001b[1m11s\u001b[0m 7ms/step - loss: 0.4452\n",
            "Epoch 2/3\n",
            "\u001b[1m1563/1563\u001b[0m \u001b[32m━━━━━━━━━━━━━━━━━━━━\u001b[0m\u001b[37m\u001b[0m \u001b[1m12s\u001b[0m 8ms/step - loss: 0.1656\n",
            "Epoch 3/3\n",
            "\u001b[1m1563/1563\u001b[0m \u001b[32m━━━━━━━━━━━━━━━━━━━━\u001b[0m\u001b[37m\u001b[0m \u001b[1m25s\u001b[0m 10ms/step - loss: 0.1296\n"
          ]
        },
        {
          "output_type": "execute_result",
          "data": {
            "text/plain": [
              "<keras.src.callbacks.history.History at 0x7bc85568d990>"
            ]
          },
          "metadata": {},
          "execution_count": 20
        }
      ]
    },
    {
      "cell_type": "markdown",
      "source": [
        "이제 compile() 메서드를 통해 지표와 손실을 설정하면 어떨까?\n",
        "\n",
        "compile() 메서드를 호출한 후 다음을 참조할 수 있음\n",
        "\n",
        "- self.compiled_loss : compile() 메서드에 전달할 손실 함수\n",
        "- self.compiled_metrics : compile() 메서드에 전달된 지표 목록이 포함되어 있는 객체. selfe.compiled_metrics.update_state()를 호출하여 모든 지표를 동시에 업데이트 할 수 있음.\n",
        "- self.metrics : compile() 메서드에 전달한 실제 지표의 목록. 앞서 loss_tracking_metric으로 수동으로 했던 것과 비슷하게 손실을 추적하는 지표도 포함함"
      ],
      "metadata": {
        "id": "-xWPrXG97D1-"
      }
    },
    {
      "cell_type": "markdown",
      "source": [
        "따라서 다음과 같이 쓸 수 있음"
      ],
      "metadata": {
        "id": "0vZCe5pd7Ede"
      }
    },
    {
      "cell_type": "code",
      "source": [
        "\n",
        "class CustomModel(keras.Model):\n",
        "  def train_Step(self, data): # train_step 메서드를 오버라이딩함\n",
        "    inputs, targets = data\n",
        "    with tf.GradientTape() as tape:\n",
        "      predictions = self(inputs, training = True) # 모델이 클래스 자체이므로 model(inputs, training = True) 대신에\n",
        "      # self(inputs, training = True)를 사용함\n",
        "      loss = self.compiled_loss(targets, predictions) # self.compiled_metrics 모델의 지표를 업데이트함\n",
        "\n",
        "    gradients = tape.gradient(loss, self.trainable_weights)\n",
        "    self.optimizer.apply_gradient(zip(gradients, self.trainable_weights))\n",
        "    self.compiled_metrics.update_state(loss) # self.compiled_loss를 사용해서 손실을 계산\n",
        "    return {m.name() : m.result() for m in self.metrics} # 측정 지표 이름과 현재 값을 매핑한 딕셔너리를 반환\n",
        "\n",
        "  @property\n",
        "  def metrics(self): # 에포크마다 재설정할 지표는 여기에 나열해야 함\n",
        "    return [loss_tracker]"
      ],
      "metadata": {
        "id": "fjMSQ1lk6J6j"
      },
      "execution_count": null,
      "outputs": []
    },
    {
      "cell_type": "markdown",
      "source": [
        "테스트해보자"
      ],
      "metadata": {
        "id": "KFbtlW0y7f5J"
      }
    },
    {
      "cell_type": "code",
      "source": [
        "inputs = keras.Input((28*28,))\n",
        "features = layers.Dense(512, activation = \"relu\")(inputs)\n",
        "features = layers.Dropout(0.5)(features)\n",
        "outputs = layers.Dense(10, activation = \"softmax\")(features)\n",
        "model = CustomModel(inputs, outputs)\n",
        "\n",
        "model.compile(optimizer = keras.optimizers.RMSprop(),\n",
        "              loss = keras.losses.SparseCategoricalCrossentropy(),\n",
        "              metrics = [keras.metrics.SparseCategoricalAccuracy()])\n",
        "\n",
        "model.fit(train_images, train_labels, epochs = 3)"
      ],
      "metadata": {
        "colab": {
          "base_uri": "https://localhost:8080/"
        },
        "id": "0soy_PZl7eSQ",
        "outputId": "0a7c203e-d973-4a1f-ee5f-678cc5e57c28"
      },
      "execution_count": 23,
      "outputs": [
        {
          "output_type": "stream",
          "name": "stdout",
          "text": [
            "Epoch 1/3\n",
            "\u001b[1m1563/1563\u001b[0m \u001b[32m━━━━━━━━━━━━━━━━━━━━\u001b[0m\u001b[37m\u001b[0m \u001b[1m13s\u001b[0m 8ms/step - loss: 0.4543\n",
            "Epoch 2/3\n",
            "\u001b[1m1563/1563\u001b[0m \u001b[32m━━━━━━━━━━━━━━━━━━━━\u001b[0m\u001b[37m\u001b[0m \u001b[1m11s\u001b[0m 7ms/step - loss: 0.1648\n",
            "Epoch 3/3\n",
            "\u001b[1m1563/1563\u001b[0m \u001b[32m━━━━━━━━━━━━━━━━━━━━\u001b[0m\u001b[37m\u001b[0m \u001b[1m20s\u001b[0m 7ms/step - loss: 0.1260\n"
          ]
        },
        {
          "output_type": "execute_result",
          "data": {
            "text/plain": [
              "<keras.src.callbacks.history.History at 0x7bc865ed7ac0>"
            ]
          },
          "metadata": {},
          "execution_count": 23
        }
      ]
    }
  ]
}