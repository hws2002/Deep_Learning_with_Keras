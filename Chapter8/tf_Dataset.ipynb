{
  "nbformat": 4,
  "nbformat_minor": 0,
  "metadata": {
    "colab": {
      "provenance": [],
      "authorship_tag": "ABX9TyM0ddmRPgU/46FIhagIv77k",
      "include_colab_link": true
    },
    "kernelspec": {
      "name": "python3",
      "display_name": "Python 3"
    },
    "language_info": {
      "name": "python"
    }
  },
  "cells": [
    {
      "cell_type": "markdown",
      "metadata": {
        "id": "view-in-github",
        "colab_type": "text"
      },
      "source": [
        "<a href=\"https://colab.research.google.com/github/hws2002/Deep_Learning_with_Keras/blob/main/Chapter8/tf_Dataset.ipynb\" target=\"_parent\"><img src=\"https://colab.research.google.com/assets/colab-badge.svg\" alt=\"Open In Colab\"/></a>"
      ]
    },
    {
      "cell_type": "code",
      "execution_count": 5,
      "metadata": {
        "id": "NyOCJ5qvkSa6"
      },
      "outputs": [],
      "source": [
        "import numpy as np\n",
        "import tensorflow as tf\n",
        "\n",
        "random_numbers = np.random.normal(size = (1000, 16))\n",
        "dataset = tf.data.Dataset.from_tensor_slices( random_numbers)\n",
        "# from_tensor_slices() 클래스 메서드를 사용하여 하나의 넘파이 배열 또는 튜플이나 딕셔너리에서\n",
        "# Dataset을 만들 수 있음"
      ]
    },
    {
      "cell_type": "code",
      "source": [
        "for i , element in enumerate(dataset):\n",
        "  print(element.shape)\n",
        "  if i >= 2:\n",
        "    break"
      ],
      "metadata": {
        "colab": {
          "base_uri": "https://localhost:8080/"
        },
        "id": "k6Glmhj4kl89",
        "outputId": "91c83518-9c28-4b27-f2d8-e3f5a805b180"
      },
      "execution_count": 6,
      "outputs": [
        {
          "output_type": "stream",
          "name": "stdout",
          "text": [
            "(16,)\n",
            "(16,)\n",
            "(16,)\n"
          ]
        }
      ]
    },
    {
      "cell_type": "code",
      "source": [
        "# .batch()메서드를 사용하면 데이터의 배치가 반환됨\n",
        "batched_dataset = dataset.batch(32)"
      ],
      "metadata": {
        "id": "dSArsxIAkqai"
      },
      "execution_count": 8,
      "outputs": []
    },
    {
      "cell_type": "code",
      "source": [
        "for i, element in enumerate(batched_dataset):\n",
        "  print(element.shape)\n",
        "  if i >= 2:\n",
        "    break"
      ],
      "metadata": {
        "colab": {
          "base_uri": "https://localhost:8080/"
        },
        "id": "jf9oVzpbk0VE",
        "outputId": "23c9df75-b80d-48da-e384-af72d09870c0"
      },
      "execution_count": 9,
      "outputs": [
        {
          "output_type": "stream",
          "name": "stdout",
          "text": [
            "(32, 16)\n",
            "(32, 16)\n",
            "(32, 16)\n"
          ]
        }
      ]
    },
    {
      "cell_type": "markdown",
      "source": [
        "# map 메서드"
      ],
      "metadata": {
        "id": "pXhAOrhilcl2"
      }
    },
    {
      "cell_type": "code",
      "source": [
        "reshaped_dataset = dataset.map(lambda x : tf.reshape(x, (4,4)))\n",
        "\n",
        "for i ,element in enumerate(reshaped_dataset):\n",
        "  print(element.shape)\n",
        "  if i >= 2:\n",
        "    break"
      ],
      "metadata": {
        "colab": {
          "base_uri": "https://localhost:8080/"
        },
        "id": "mBH6Yu4fk5Ik",
        "outputId": "8e99e082-74e7-41ca-8b66-6ae484db62af"
      },
      "execution_count": 12,
      "outputs": [
        {
          "output_type": "stream",
          "name": "stdout",
          "text": [
            "(4, 4)\n",
            "(4, 4)\n",
            "(4, 4)\n"
          ]
        }
      ]
    }
  ]
}